{
 "cells": [
  {
   "attachments": {},
   "cell_type": "markdown",
   "metadata": {},
   "source": [
    "# Is Bitcoin under theoretical and empirical aspects money?\n",
    "Carl von Ossietzky Universität Oldenburg \\\n",
    "examiner: Prof. Dr. Hans-Michael Trautwein \\\n",
    "author: Henning Siept Dinkela\n",
    "\n",
    "###### This is the Python code for the empirical investigation of the money functions of Bitcoin. I mainly used Python for data manipulation and data cleaning. For regression of econometric models I used R, which is also available in this github repo."
   ]
  },
  {
   "cell_type": "code",
   "execution_count": 35,
   "metadata": {},
   "outputs": [],
   "source": [
    "import pandas as pd\n",
    "import numpy as np\n",
    "import matplotlib.pyplot as plt\n",
    "import math\n",
    "import seaborn as sns\n",
    "plt.style.use(\"ggplot\")"
   ]
  },
  {
   "cell_type": "markdown",
   "metadata": {},
   "source": [
    "##### Data Preperation"
   ]
  },
  {
   "cell_type": "markdown",
   "metadata": {},
   "source": [
    "###### Data is from https://finance.yahoo.com/quote/BTC-USD/history?period1=1410912000&period2=1692230400&interval=1d&filter=history&frequency=1d&includeAdjustedClose=true last access: 17.08.2023 at 17:46 https://coincodex.com/crypto/bitcoin/historical-data/ last access: 20.08.2023 at 20:45"
   ]
  },
  {
   "cell_type": "code",
   "execution_count": 36,
   "metadata": {},
   "outputs": [],
   "source": [
    "data = pd.read_csv(\"BTC-USD.csv\") # yahoo finance"
   ]
  },
  {
   "cell_type": "code",
   "execution_count": 37,
   "metadata": {},
   "outputs": [],
   "source": [
    "bitcoin_supply_data = pd.read_csv(\"btc_supply_daily.csv\") # https://data.nasdaq.com/data/BCHAIN/TOTBC-total-bitcoins"
   ]
  },
  {
   "cell_type": "code",
   "execution_count": 38,
   "metadata": {},
   "outputs": [],
   "source": [
    "df = pd.DataFrame(data)"
   ]
  },
  {
   "cell_type": "code",
   "execution_count": 39,
   "metadata": {},
   "outputs": [],
   "source": [
    "df_s = pd.DataFrame(bitcoin_supply_data)\n",
    "df_s.rename(columns={'Value': 'Supply'}, inplace=True)"
   ]
  },
  {
   "cell_type": "code",
   "execution_count": 40,
   "metadata": {},
   "outputs": [],
   "source": [
    "daily_tweets_data = pd.read_csv(\"daily_tweets.csv\")"
   ]
  },
  {
   "cell_type": "code",
   "execution_count": 41,
   "metadata": {},
   "outputs": [],
   "source": [
    "df_t = pd.DataFrame(daily_tweets_data)"
   ]
  },
  {
   "cell_type": "code",
   "execution_count": 42,
   "metadata": {},
   "outputs": [
    {
     "data": {
      "text/html": [
       "<div>\n",
       "<style scoped>\n",
       "    .dataframe tbody tr th:only-of-type {\n",
       "        vertical-align: middle;\n",
       "    }\n",
       "\n",
       "    .dataframe tbody tr th {\n",
       "        vertical-align: top;\n",
       "    }\n",
       "\n",
       "    .dataframe thead th {\n",
       "        text-align: right;\n",
       "    }\n",
       "</style>\n",
       "<table border=\"1\" class=\"dataframe\">\n",
       "  <thead>\n",
       "    <tr style=\"text-align: right;\">\n",
       "      <th></th>\n",
       "      <th>Date</th>\n",
       "      <th>Open</th>\n",
       "      <th>High</th>\n",
       "      <th>Low</th>\n",
       "      <th>Close</th>\n",
       "      <th>Adj Close</th>\n",
       "      <th>Volume</th>\n",
       "    </tr>\n",
       "  </thead>\n",
       "  <tbody>\n",
       "    <tr>\n",
       "      <th>0</th>\n",
       "      <td>2014-09-17</td>\n",
       "      <td>465.864014</td>\n",
       "      <td>468.174011</td>\n",
       "      <td>452.421997</td>\n",
       "      <td>457.334015</td>\n",
       "      <td>457.334015</td>\n",
       "      <td>21056800</td>\n",
       "    </tr>\n",
       "    <tr>\n",
       "      <th>1</th>\n",
       "      <td>2014-09-18</td>\n",
       "      <td>456.859985</td>\n",
       "      <td>456.859985</td>\n",
       "      <td>413.104004</td>\n",
       "      <td>424.440002</td>\n",
       "      <td>424.440002</td>\n",
       "      <td>34483200</td>\n",
       "    </tr>\n",
       "    <tr>\n",
       "      <th>2</th>\n",
       "      <td>2014-09-19</td>\n",
       "      <td>424.102997</td>\n",
       "      <td>427.834991</td>\n",
       "      <td>384.532013</td>\n",
       "      <td>394.795990</td>\n",
       "      <td>394.795990</td>\n",
       "      <td>37919700</td>\n",
       "    </tr>\n",
       "    <tr>\n",
       "      <th>3</th>\n",
       "      <td>2014-09-20</td>\n",
       "      <td>394.673004</td>\n",
       "      <td>423.295990</td>\n",
       "      <td>389.882996</td>\n",
       "      <td>408.903992</td>\n",
       "      <td>408.903992</td>\n",
       "      <td>36863600</td>\n",
       "    </tr>\n",
       "    <tr>\n",
       "      <th>4</th>\n",
       "      <td>2014-09-21</td>\n",
       "      <td>408.084991</td>\n",
       "      <td>412.425995</td>\n",
       "      <td>393.181000</td>\n",
       "      <td>398.821014</td>\n",
       "      <td>398.821014</td>\n",
       "      <td>26580100</td>\n",
       "    </tr>\n",
       "  </tbody>\n",
       "</table>\n",
       "</div>"
      ],
      "text/plain": [
       "         Date        Open        High         Low       Close   Adj Close  \\\n",
       "0  2014-09-17  465.864014  468.174011  452.421997  457.334015  457.334015   \n",
       "1  2014-09-18  456.859985  456.859985  413.104004  424.440002  424.440002   \n",
       "2  2014-09-19  424.102997  427.834991  384.532013  394.795990  394.795990   \n",
       "3  2014-09-20  394.673004  423.295990  389.882996  408.903992  408.903992   \n",
       "4  2014-09-21  408.084991  412.425995  393.181000  398.821014  398.821014   \n",
       "\n",
       "     Volume  \n",
       "0  21056800  \n",
       "1  34483200  \n",
       "2  37919700  \n",
       "3  36863600  \n",
       "4  26580100  "
      ]
     },
     "execution_count": 42,
     "metadata": {},
     "output_type": "execute_result"
    }
   ],
   "source": [
    "df.head()"
   ]
  },
  {
   "cell_type": "code",
   "execution_count": 43,
   "metadata": {},
   "outputs": [
    {
     "data": {
      "text/html": [
       "<div>\n",
       "<style scoped>\n",
       "    .dataframe tbody tr th:only-of-type {\n",
       "        vertical-align: middle;\n",
       "    }\n",
       "\n",
       "    .dataframe tbody tr th {\n",
       "        vertical-align: top;\n",
       "    }\n",
       "\n",
       "    .dataframe thead th {\n",
       "        text-align: right;\n",
       "    }\n",
       "</style>\n",
       "<table border=\"1\" class=\"dataframe\">\n",
       "  <thead>\n",
       "    <tr style=\"text-align: right;\">\n",
       "      <th></th>\n",
       "      <th>Date</th>\n",
       "      <th>Supply</th>\n",
       "    </tr>\n",
       "  </thead>\n",
       "  <tbody>\n",
       "    <tr>\n",
       "      <th>0</th>\n",
       "      <td>2023-08-20</td>\n",
       "      <td>19463175.00</td>\n",
       "    </tr>\n",
       "    <tr>\n",
       "      <th>1</th>\n",
       "      <td>2023-08-19</td>\n",
       "      <td>19462268.75</td>\n",
       "    </tr>\n",
       "    <tr>\n",
       "      <th>2</th>\n",
       "      <td>2023-08-18</td>\n",
       "      <td>19461368.75</td>\n",
       "    </tr>\n",
       "    <tr>\n",
       "      <th>3</th>\n",
       "      <td>2023-08-17</td>\n",
       "      <td>19460468.75</td>\n",
       "    </tr>\n",
       "    <tr>\n",
       "      <th>4</th>\n",
       "      <td>2023-08-16</td>\n",
       "      <td>19459562.50</td>\n",
       "    </tr>\n",
       "  </tbody>\n",
       "</table>\n",
       "</div>"
      ],
      "text/plain": [
       "         Date       Supply\n",
       "0  2023-08-20  19463175.00\n",
       "1  2023-08-19  19462268.75\n",
       "2  2023-08-18  19461368.75\n",
       "3  2023-08-17  19460468.75\n",
       "4  2023-08-16  19459562.50"
      ]
     },
     "execution_count": 43,
     "metadata": {},
     "output_type": "execute_result"
    }
   ],
   "source": [
    "df_s.head()"
   ]
  },
  {
   "cell_type": "code",
   "execution_count": 44,
   "metadata": {},
   "outputs": [
    {
     "data": {
      "text/html": [
       "<div>\n",
       "<style scoped>\n",
       "    .dataframe tbody tr th:only-of-type {\n",
       "        vertical-align: middle;\n",
       "    }\n",
       "\n",
       "    .dataframe tbody tr th {\n",
       "        vertical-align: top;\n",
       "    }\n",
       "\n",
       "    .dataframe thead th {\n",
       "        text-align: right;\n",
       "    }\n",
       "</style>\n",
       "<table border=\"1\" class=\"dataframe\">\n",
       "  <thead>\n",
       "    <tr style=\"text-align: right;\">\n",
       "      <th></th>\n",
       "      <th>Date</th>\n",
       "      <th>Tweets</th>\n",
       "    </tr>\n",
       "  </thead>\n",
       "  <tbody>\n",
       "    <tr>\n",
       "      <th>0</th>\n",
       "      <td>2014-04-09</td>\n",
       "      <td>8193.0</td>\n",
       "    </tr>\n",
       "    <tr>\n",
       "      <th>1</th>\n",
       "      <td>2014-04-10</td>\n",
       "      <td>15039.0</td>\n",
       "    </tr>\n",
       "    <tr>\n",
       "      <th>2</th>\n",
       "      <td>2014-04-11</td>\n",
       "      <td>14907.0</td>\n",
       "    </tr>\n",
       "    <tr>\n",
       "      <th>3</th>\n",
       "      <td>2014-04-12</td>\n",
       "      <td>7582.0</td>\n",
       "    </tr>\n",
       "    <tr>\n",
       "      <th>4</th>\n",
       "      <td>2014-04-13</td>\n",
       "      <td>10674.0</td>\n",
       "    </tr>\n",
       "    <tr>\n",
       "      <th>...</th>\n",
       "      <td>...</td>\n",
       "      <td>...</td>\n",
       "    </tr>\n",
       "    <tr>\n",
       "      <th>3257</th>\n",
       "      <td>2023-03-10</td>\n",
       "      <td>120160.0</td>\n",
       "    </tr>\n",
       "    <tr>\n",
       "      <th>3258</th>\n",
       "      <td>2023-03-11</td>\n",
       "      <td>107064.0</td>\n",
       "    </tr>\n",
       "    <tr>\n",
       "      <th>3259</th>\n",
       "      <td>2023-03-12</td>\n",
       "      <td>120467.0</td>\n",
       "    </tr>\n",
       "    <tr>\n",
       "      <th>3260</th>\n",
       "      <td>2023-03-13</td>\n",
       "      <td>198796.0</td>\n",
       "    </tr>\n",
       "    <tr>\n",
       "      <th>3261</th>\n",
       "      <td>2023-03-14</td>\n",
       "      <td>203783.0</td>\n",
       "    </tr>\n",
       "  </tbody>\n",
       "</table>\n",
       "<p>3262 rows × 2 columns</p>\n",
       "</div>"
      ],
      "text/plain": [
       "            Date    Tweets\n",
       "0     2014-04-09    8193.0\n",
       "1     2014-04-10   15039.0\n",
       "2     2014-04-11   14907.0\n",
       "3     2014-04-12    7582.0\n",
       "4     2014-04-13   10674.0\n",
       "...          ...       ...\n",
       "3257  2023-03-10  120160.0\n",
       "3258  2023-03-11  107064.0\n",
       "3259  2023-03-12  120467.0\n",
       "3260  2023-03-13  198796.0\n",
       "3261  2023-03-14  203783.0\n",
       "\n",
       "[3262 rows x 2 columns]"
      ]
     },
     "execution_count": 44,
     "metadata": {},
     "output_type": "execute_result"
    }
   ],
   "source": [
    "df_t"
   ]
  },
  {
   "cell_type": "code",
   "execution_count": 74,
   "metadata": {},
   "outputs": [
    {
     "data": {
      "text/html": [
       "<div>\n",
       "<style scoped>\n",
       "    .dataframe tbody tr th:only-of-type {\n",
       "        vertical-align: middle;\n",
       "    }\n",
       "\n",
       "    .dataframe tbody tr th {\n",
       "        vertical-align: top;\n",
       "    }\n",
       "\n",
       "    .dataframe thead th {\n",
       "        text-align: right;\n",
       "    }\n",
       "</style>\n",
       "<table border=\"1\" class=\"dataframe\">\n",
       "  <thead>\n",
       "    <tr style=\"text-align: right;\">\n",
       "      <th></th>\n",
       "      <th>Open</th>\n",
       "      <th>High</th>\n",
       "      <th>Low</th>\n",
       "      <th>Close</th>\n",
       "      <th>Adj Close</th>\n",
       "      <th>Volume</th>\n",
       "    </tr>\n",
       "    <tr>\n",
       "      <th>Date</th>\n",
       "      <th></th>\n",
       "      <th></th>\n",
       "      <th></th>\n",
       "      <th></th>\n",
       "      <th></th>\n",
       "      <th></th>\n",
       "    </tr>\n",
       "  </thead>\n",
       "  <tbody>\n",
       "    <tr>\n",
       "      <th>2014-09-17</th>\n",
       "      <td>465.864014</td>\n",
       "      <td>468.174011</td>\n",
       "      <td>452.421997</td>\n",
       "      <td>457.334015</td>\n",
       "      <td>457.334015</td>\n",
       "      <td>21056800</td>\n",
       "    </tr>\n",
       "    <tr>\n",
       "      <th>2014-09-18</th>\n",
       "      <td>456.859985</td>\n",
       "      <td>456.859985</td>\n",
       "      <td>413.104004</td>\n",
       "      <td>424.440002</td>\n",
       "      <td>424.440002</td>\n",
       "      <td>34483200</td>\n",
       "    </tr>\n",
       "    <tr>\n",
       "      <th>2014-09-19</th>\n",
       "      <td>424.102997</td>\n",
       "      <td>427.834991</td>\n",
       "      <td>384.532013</td>\n",
       "      <td>394.795990</td>\n",
       "      <td>394.795990</td>\n",
       "      <td>37919700</td>\n",
       "    </tr>\n",
       "    <tr>\n",
       "      <th>2014-09-20</th>\n",
       "      <td>394.673004</td>\n",
       "      <td>423.295990</td>\n",
       "      <td>389.882996</td>\n",
       "      <td>408.903992</td>\n",
       "      <td>408.903992</td>\n",
       "      <td>36863600</td>\n",
       "    </tr>\n",
       "    <tr>\n",
       "      <th>2014-09-21</th>\n",
       "      <td>408.084991</td>\n",
       "      <td>412.425995</td>\n",
       "      <td>393.181000</td>\n",
       "      <td>398.821014</td>\n",
       "      <td>398.821014</td>\n",
       "      <td>26580100</td>\n",
       "    </tr>\n",
       "    <tr>\n",
       "      <th>...</th>\n",
       "      <td>...</td>\n",
       "      <td>...</td>\n",
       "      <td>...</td>\n",
       "      <td>...</td>\n",
       "      <td>...</td>\n",
       "      <td>...</td>\n",
       "    </tr>\n",
       "    <tr>\n",
       "      <th>2023-08-13</th>\n",
       "      <td>29416.593750</td>\n",
       "      <td>29441.433594</td>\n",
       "      <td>29265.806641</td>\n",
       "      <td>29282.914063</td>\n",
       "      <td>29282.914063</td>\n",
       "      <td>7329897180</td>\n",
       "    </tr>\n",
       "    <tr>\n",
       "      <th>2023-08-14</th>\n",
       "      <td>29283.263672</td>\n",
       "      <td>29660.253906</td>\n",
       "      <td>29124.105469</td>\n",
       "      <td>29408.443359</td>\n",
       "      <td>29408.443359</td>\n",
       "      <td>14013695304</td>\n",
       "    </tr>\n",
       "    <tr>\n",
       "      <th>2023-08-15</th>\n",
       "      <td>29408.048828</td>\n",
       "      <td>29439.121094</td>\n",
       "      <td>29088.853516</td>\n",
       "      <td>29170.347656</td>\n",
       "      <td>29170.347656</td>\n",
       "      <td>12640195779</td>\n",
       "    </tr>\n",
       "    <tr>\n",
       "      <th>2023-08-16</th>\n",
       "      <td>29169.074219</td>\n",
       "      <td>29221.976563</td>\n",
       "      <td>28701.779297</td>\n",
       "      <td>28701.779297</td>\n",
       "      <td>28701.779297</td>\n",
       "      <td>14949271904</td>\n",
       "    </tr>\n",
       "    <tr>\n",
       "      <th>2023-08-17</th>\n",
       "      <td>28715.777344</td>\n",
       "      <td>28735.630859</td>\n",
       "      <td>28042.050781</td>\n",
       "      <td>28056.431641</td>\n",
       "      <td>28056.431641</td>\n",
       "      <td>19215843328</td>\n",
       "    </tr>\n",
       "  </tbody>\n",
       "</table>\n",
       "<p>3257 rows × 6 columns</p>\n",
       "</div>"
      ],
      "text/plain": [
       "                    Open          High           Low         Close  \\\n",
       "Date                                                                 \n",
       "2014-09-17    465.864014    468.174011    452.421997    457.334015   \n",
       "2014-09-18    456.859985    456.859985    413.104004    424.440002   \n",
       "2014-09-19    424.102997    427.834991    384.532013    394.795990   \n",
       "2014-09-20    394.673004    423.295990    389.882996    408.903992   \n",
       "2014-09-21    408.084991    412.425995    393.181000    398.821014   \n",
       "...                  ...           ...           ...           ...   \n",
       "2023-08-13  29416.593750  29441.433594  29265.806641  29282.914063   \n",
       "2023-08-14  29283.263672  29660.253906  29124.105469  29408.443359   \n",
       "2023-08-15  29408.048828  29439.121094  29088.853516  29170.347656   \n",
       "2023-08-16  29169.074219  29221.976563  28701.779297  28701.779297   \n",
       "2023-08-17  28715.777344  28735.630859  28042.050781  28056.431641   \n",
       "\n",
       "               Adj Close       Volume  \n",
       "Date                                   \n",
       "2014-09-17    457.334015     21056800  \n",
       "2014-09-18    424.440002     34483200  \n",
       "2014-09-19    394.795990     37919700  \n",
       "2014-09-20    408.903992     36863600  \n",
       "2014-09-21    398.821014     26580100  \n",
       "...                  ...          ...  \n",
       "2023-08-13  29282.914063   7329897180  \n",
       "2023-08-14  29408.443359  14013695304  \n",
       "2023-08-15  29170.347656  12640195779  \n",
       "2023-08-16  28701.779297  14949271904  \n",
       "2023-08-17  28056.431641  19215843328  \n",
       "\n",
       "[3257 rows x 6 columns]"
      ]
     },
     "execution_count": 74,
     "metadata": {},
     "output_type": "execute_result"
    }
   ],
   "source": [
    "df"
   ]
  },
  {
   "cell_type": "code",
   "execution_count": 75,
   "metadata": {},
   "outputs": [],
   "source": [
    "df_s = df_s.iloc[::-1].reset_index(drop=True) # reversing the data to have oldest = first value and newest = last value "
   ]
  },
  {
   "cell_type": "code",
   "execution_count": 76,
   "metadata": {},
   "outputs": [
    {
     "data": {
      "text/html": [
       "<div>\n",
       "<style scoped>\n",
       "    .dataframe tbody tr th:only-of-type {\n",
       "        vertical-align: middle;\n",
       "    }\n",
       "\n",
       "    .dataframe tbody tr th {\n",
       "        vertical-align: top;\n",
       "    }\n",
       "\n",
       "    .dataframe thead th {\n",
       "        text-align: right;\n",
       "    }\n",
       "</style>\n",
       "<table border=\"1\" class=\"dataframe\">\n",
       "  <thead>\n",
       "    <tr style=\"text-align: right;\">\n",
       "      <th></th>\n",
       "      <th>Date</th>\n",
       "      <th>Supply</th>\n",
       "    </tr>\n",
       "  </thead>\n",
       "  <tbody>\n",
       "    <tr>\n",
       "      <th>0</th>\n",
       "      <td>2023-08-20</td>\n",
       "      <td>19463175.00</td>\n",
       "    </tr>\n",
       "    <tr>\n",
       "      <th>1</th>\n",
       "      <td>2023-08-19</td>\n",
       "      <td>19462268.75</td>\n",
       "    </tr>\n",
       "    <tr>\n",
       "      <th>2</th>\n",
       "      <td>2023-08-18</td>\n",
       "      <td>19461368.75</td>\n",
       "    </tr>\n",
       "    <tr>\n",
       "      <th>3</th>\n",
       "      <td>2023-08-17</td>\n",
       "      <td>19460468.75</td>\n",
       "    </tr>\n",
       "    <tr>\n",
       "      <th>4</th>\n",
       "      <td>2023-08-16</td>\n",
       "      <td>19459562.50</td>\n",
       "    </tr>\n",
       "    <tr>\n",
       "      <th>...</th>\n",
       "      <td>...</td>\n",
       "      <td>...</td>\n",
       "    </tr>\n",
       "    <tr>\n",
       "      <th>5339</th>\n",
       "      <td>2009-01-06</td>\n",
       "      <td>50.00</td>\n",
       "    </tr>\n",
       "    <tr>\n",
       "      <th>5340</th>\n",
       "      <td>2009-01-05</td>\n",
       "      <td>50.00</td>\n",
       "    </tr>\n",
       "    <tr>\n",
       "      <th>5341</th>\n",
       "      <td>2009-01-04</td>\n",
       "      <td>50.00</td>\n",
       "    </tr>\n",
       "    <tr>\n",
       "      <th>5342</th>\n",
       "      <td>2009-01-03</td>\n",
       "      <td>50.00</td>\n",
       "    </tr>\n",
       "    <tr>\n",
       "      <th>5343</th>\n",
       "      <td>2009-01-02</td>\n",
       "      <td>50.00</td>\n",
       "    </tr>\n",
       "  </tbody>\n",
       "</table>\n",
       "<p>5344 rows × 2 columns</p>\n",
       "</div>"
      ],
      "text/plain": [
       "            Date       Supply\n",
       "0     2023-08-20  19463175.00\n",
       "1     2023-08-19  19462268.75\n",
       "2     2023-08-18  19461368.75\n",
       "3     2023-08-17  19460468.75\n",
       "4     2023-08-16  19459562.50\n",
       "...          ...          ...\n",
       "5339  2009-01-06        50.00\n",
       "5340  2009-01-05        50.00\n",
       "5341  2009-01-04        50.00\n",
       "5342  2009-01-03        50.00\n",
       "5343  2009-01-02        50.00\n",
       "\n",
       "[5344 rows x 2 columns]"
      ]
     },
     "execution_count": 76,
     "metadata": {},
     "output_type": "execute_result"
    }
   ],
   "source": [
    "df_s"
   ]
  },
  {
   "cell_type": "code",
   "execution_count": 77,
   "metadata": {},
   "outputs": [
    {
     "name": "stdout",
     "output_type": "stream",
     "text": [
      "<class 'pandas.core.frame.DataFrame'>\n",
      "DatetimeIndex: 3257 entries, 2014-09-17 to 2023-08-17\n",
      "Data columns (total 6 columns):\n",
      " #   Column     Non-Null Count  Dtype  \n",
      "---  ------     --------------  -----  \n",
      " 0   Open       3257 non-null   float64\n",
      " 1   High       3257 non-null   float64\n",
      " 2   Low        3257 non-null   float64\n",
      " 3   Close      3257 non-null   float64\n",
      " 4   Adj Close  3257 non-null   float64\n",
      " 5   Volume     3257 non-null   int64  \n",
      "dtypes: float64(5), int64(1)\n",
      "memory usage: 178.1 KB\n"
     ]
    }
   ],
   "source": [
    "df.info()"
   ]
  },
  {
   "cell_type": "code",
   "execution_count": 78,
   "metadata": {},
   "outputs": [
    {
     "name": "stdout",
     "output_type": "stream",
     "text": [
      "<class 'pandas.core.frame.DataFrame'>\n",
      "RangeIndex: 5344 entries, 0 to 5343\n",
      "Data columns (total 2 columns):\n",
      " #   Column  Non-Null Count  Dtype  \n",
      "---  ------  --------------  -----  \n",
      " 0   Date    5344 non-null   object \n",
      " 1   Supply  5344 non-null   float64\n",
      "dtypes: float64(1), object(1)\n",
      "memory usage: 83.6+ KB\n"
     ]
    }
   ],
   "source": [
    "df_s.info()"
   ]
  },
  {
   "cell_type": "code",
   "execution_count": 79,
   "metadata": {},
   "outputs": [
    {
     "data": {
      "text/plain": [
       "(3257, 6)"
      ]
     },
     "execution_count": 79,
     "metadata": {},
     "output_type": "execute_result"
    }
   ],
   "source": [
    "df.shape"
   ]
  },
  {
   "cell_type": "code",
   "execution_count": 80,
   "metadata": {},
   "outputs": [
    {
     "data": {
      "text/html": [
       "<div>\n",
       "<style scoped>\n",
       "    .dataframe tbody tr th:only-of-type {\n",
       "        vertical-align: middle;\n",
       "    }\n",
       "\n",
       "    .dataframe tbody tr th {\n",
       "        vertical-align: top;\n",
       "    }\n",
       "\n",
       "    .dataframe thead th {\n",
       "        text-align: right;\n",
       "    }\n",
       "</style>\n",
       "<table border=\"1\" class=\"dataframe\">\n",
       "  <thead>\n",
       "    <tr style=\"text-align: right;\">\n",
       "      <th></th>\n",
       "      <th>Open</th>\n",
       "      <th>High</th>\n",
       "      <th>Low</th>\n",
       "      <th>Close</th>\n",
       "      <th>Adj Close</th>\n",
       "      <th>Volume</th>\n",
       "    </tr>\n",
       "    <tr>\n",
       "      <th>Date</th>\n",
       "      <th></th>\n",
       "      <th></th>\n",
       "      <th></th>\n",
       "      <th></th>\n",
       "      <th></th>\n",
       "      <th></th>\n",
       "    </tr>\n",
       "  </thead>\n",
       "  <tbody>\n",
       "    <tr>\n",
       "      <th>2014-09-17</th>\n",
       "      <td>465.864014</td>\n",
       "      <td>468.174011</td>\n",
       "      <td>452.421997</td>\n",
       "      <td>457.334015</td>\n",
       "      <td>457.334015</td>\n",
       "      <td>21056800</td>\n",
       "    </tr>\n",
       "    <tr>\n",
       "      <th>2014-09-18</th>\n",
       "      <td>456.859985</td>\n",
       "      <td>456.859985</td>\n",
       "      <td>413.104004</td>\n",
       "      <td>424.440002</td>\n",
       "      <td>424.440002</td>\n",
       "      <td>34483200</td>\n",
       "    </tr>\n",
       "    <tr>\n",
       "      <th>2014-09-19</th>\n",
       "      <td>424.102997</td>\n",
       "      <td>427.834991</td>\n",
       "      <td>384.532013</td>\n",
       "      <td>394.795990</td>\n",
       "      <td>394.795990</td>\n",
       "      <td>37919700</td>\n",
       "    </tr>\n",
       "    <tr>\n",
       "      <th>2014-09-20</th>\n",
       "      <td>394.673004</td>\n",
       "      <td>423.295990</td>\n",
       "      <td>389.882996</td>\n",
       "      <td>408.903992</td>\n",
       "      <td>408.903992</td>\n",
       "      <td>36863600</td>\n",
       "    </tr>\n",
       "    <tr>\n",
       "      <th>2014-09-21</th>\n",
       "      <td>408.084991</td>\n",
       "      <td>412.425995</td>\n",
       "      <td>393.181000</td>\n",
       "      <td>398.821014</td>\n",
       "      <td>398.821014</td>\n",
       "      <td>26580100</td>\n",
       "    </tr>\n",
       "    <tr>\n",
       "      <th>...</th>\n",
       "      <td>...</td>\n",
       "      <td>...</td>\n",
       "      <td>...</td>\n",
       "      <td>...</td>\n",
       "      <td>...</td>\n",
       "      <td>...</td>\n",
       "    </tr>\n",
       "    <tr>\n",
       "      <th>2023-08-13</th>\n",
       "      <td>29416.593750</td>\n",
       "      <td>29441.433594</td>\n",
       "      <td>29265.806641</td>\n",
       "      <td>29282.914063</td>\n",
       "      <td>29282.914063</td>\n",
       "      <td>7329897180</td>\n",
       "    </tr>\n",
       "    <tr>\n",
       "      <th>2023-08-14</th>\n",
       "      <td>29283.263672</td>\n",
       "      <td>29660.253906</td>\n",
       "      <td>29124.105469</td>\n",
       "      <td>29408.443359</td>\n",
       "      <td>29408.443359</td>\n",
       "      <td>14013695304</td>\n",
       "    </tr>\n",
       "    <tr>\n",
       "      <th>2023-08-15</th>\n",
       "      <td>29408.048828</td>\n",
       "      <td>29439.121094</td>\n",
       "      <td>29088.853516</td>\n",
       "      <td>29170.347656</td>\n",
       "      <td>29170.347656</td>\n",
       "      <td>12640195779</td>\n",
       "    </tr>\n",
       "    <tr>\n",
       "      <th>2023-08-16</th>\n",
       "      <td>29169.074219</td>\n",
       "      <td>29221.976563</td>\n",
       "      <td>28701.779297</td>\n",
       "      <td>28701.779297</td>\n",
       "      <td>28701.779297</td>\n",
       "      <td>14949271904</td>\n",
       "    </tr>\n",
       "    <tr>\n",
       "      <th>2023-08-17</th>\n",
       "      <td>28715.777344</td>\n",
       "      <td>28735.630859</td>\n",
       "      <td>28042.050781</td>\n",
       "      <td>28056.431641</td>\n",
       "      <td>28056.431641</td>\n",
       "      <td>19215843328</td>\n",
       "    </tr>\n",
       "  </tbody>\n",
       "</table>\n",
       "<p>3257 rows × 6 columns</p>\n",
       "</div>"
      ],
      "text/plain": [
       "                    Open          High           Low         Close  \\\n",
       "Date                                                                 \n",
       "2014-09-17    465.864014    468.174011    452.421997    457.334015   \n",
       "2014-09-18    456.859985    456.859985    413.104004    424.440002   \n",
       "2014-09-19    424.102997    427.834991    384.532013    394.795990   \n",
       "2014-09-20    394.673004    423.295990    389.882996    408.903992   \n",
       "2014-09-21    408.084991    412.425995    393.181000    398.821014   \n",
       "...                  ...           ...           ...           ...   \n",
       "2023-08-13  29416.593750  29441.433594  29265.806641  29282.914063   \n",
       "2023-08-14  29283.263672  29660.253906  29124.105469  29408.443359   \n",
       "2023-08-15  29408.048828  29439.121094  29088.853516  29170.347656   \n",
       "2023-08-16  29169.074219  29221.976563  28701.779297  28701.779297   \n",
       "2023-08-17  28715.777344  28735.630859  28042.050781  28056.431641   \n",
       "\n",
       "               Adj Close       Volume  \n",
       "Date                                   \n",
       "2014-09-17    457.334015     21056800  \n",
       "2014-09-18    424.440002     34483200  \n",
       "2014-09-19    394.795990     37919700  \n",
       "2014-09-20    408.903992     36863600  \n",
       "2014-09-21    398.821014     26580100  \n",
       "...                  ...          ...  \n",
       "2023-08-13  29282.914063   7329897180  \n",
       "2023-08-14  29408.443359  14013695304  \n",
       "2023-08-15  29170.347656  12640195779  \n",
       "2023-08-16  28701.779297  14949271904  \n",
       "2023-08-17  28056.431641  19215843328  \n",
       "\n",
       "[3257 rows x 6 columns]"
      ]
     },
     "execution_count": 80,
     "metadata": {},
     "output_type": "execute_result"
    }
   ],
   "source": [
    "df"
   ]
  },
  {
   "cell_type": "code",
   "execution_count": 81,
   "metadata": {},
   "outputs": [
    {
     "ename": "KeyError",
     "evalue": "'Date'",
     "output_type": "error",
     "traceback": [
      "\u001b[1;31m---------------------------------------------------------------------------\u001b[0m",
      "\u001b[1;31mKeyError\u001b[0m                                  Traceback (most recent call last)",
      "File \u001b[1;32mc:\\Users\\Henning\\AppData\\Local\\Programs\\Python\\Python311\\Lib\\site-packages\\pandas\\core\\indexes\\base.py:3802\u001b[0m, in \u001b[0;36mIndex.get_loc\u001b[1;34m(self, key, method, tolerance)\u001b[0m\n\u001b[0;32m   3801\u001b[0m \u001b[39mtry\u001b[39;00m:\n\u001b[1;32m-> 3802\u001b[0m     \u001b[39mreturn\u001b[39;00m \u001b[39mself\u001b[39;49m\u001b[39m.\u001b[39;49m_engine\u001b[39m.\u001b[39;49mget_loc(casted_key)\n\u001b[0;32m   3803\u001b[0m \u001b[39mexcept\u001b[39;00m \u001b[39mKeyError\u001b[39;00m \u001b[39mas\u001b[39;00m err:\n",
      "File \u001b[1;32mc:\\Users\\Henning\\AppData\\Local\\Programs\\Python\\Python311\\Lib\\site-packages\\pandas\\_libs\\index.pyx:138\u001b[0m, in \u001b[0;36mpandas._libs.index.IndexEngine.get_loc\u001b[1;34m()\u001b[0m\n",
      "File \u001b[1;32mc:\\Users\\Henning\\AppData\\Local\\Programs\\Python\\Python311\\Lib\\site-packages\\pandas\\_libs\\index.pyx:165\u001b[0m, in \u001b[0;36mpandas._libs.index.IndexEngine.get_loc\u001b[1;34m()\u001b[0m\n",
      "File \u001b[1;32mpandas\\_libs\\hashtable_class_helper.pxi:5745\u001b[0m, in \u001b[0;36mpandas._libs.hashtable.PyObjectHashTable.get_item\u001b[1;34m()\u001b[0m\n",
      "File \u001b[1;32mpandas\\_libs\\hashtable_class_helper.pxi:5753\u001b[0m, in \u001b[0;36mpandas._libs.hashtable.PyObjectHashTable.get_item\u001b[1;34m()\u001b[0m\n",
      "\u001b[1;31mKeyError\u001b[0m: 'Date'",
      "\nThe above exception was the direct cause of the following exception:\n",
      "\u001b[1;31mKeyError\u001b[0m                                  Traceback (most recent call last)",
      "\u001b[1;32mc:\\Users\\Henning\\Desktop\\Studium\\bachelor_thesis\\bitcoin_vola_v2.ipynb Cell 21\u001b[0m line \u001b[0;36m1\n\u001b[1;32m----> <a href='vscode-notebook-cell:/c%3A/Users/Henning/Desktop/Studium/bachelor_thesis/bitcoin_vola_v2.ipynb#X26sZmlsZQ%3D%3D?line=0'>1</a>\u001b[0m df[\u001b[39m\"\u001b[39m\u001b[39mDate\u001b[39m\u001b[39m\"\u001b[39m] \u001b[39m=\u001b[39m pd\u001b[39m.\u001b[39mto_datetime(df[\u001b[39m\"\u001b[39;49m\u001b[39mDate\u001b[39;49m\u001b[39m\"\u001b[39;49m])\n",
      "File \u001b[1;32mc:\\Users\\Henning\\AppData\\Local\\Programs\\Python\\Python311\\Lib\\site-packages\\pandas\\core\\frame.py:3807\u001b[0m, in \u001b[0;36mDataFrame.__getitem__\u001b[1;34m(self, key)\u001b[0m\n\u001b[0;32m   3805\u001b[0m \u001b[39mif\u001b[39;00m \u001b[39mself\u001b[39m\u001b[39m.\u001b[39mcolumns\u001b[39m.\u001b[39mnlevels \u001b[39m>\u001b[39m \u001b[39m1\u001b[39m:\n\u001b[0;32m   3806\u001b[0m     \u001b[39mreturn\u001b[39;00m \u001b[39mself\u001b[39m\u001b[39m.\u001b[39m_getitem_multilevel(key)\n\u001b[1;32m-> 3807\u001b[0m indexer \u001b[39m=\u001b[39m \u001b[39mself\u001b[39;49m\u001b[39m.\u001b[39;49mcolumns\u001b[39m.\u001b[39;49mget_loc(key)\n\u001b[0;32m   3808\u001b[0m \u001b[39mif\u001b[39;00m is_integer(indexer):\n\u001b[0;32m   3809\u001b[0m     indexer \u001b[39m=\u001b[39m [indexer]\n",
      "File \u001b[1;32mc:\\Users\\Henning\\AppData\\Local\\Programs\\Python\\Python311\\Lib\\site-packages\\pandas\\core\\indexes\\base.py:3804\u001b[0m, in \u001b[0;36mIndex.get_loc\u001b[1;34m(self, key, method, tolerance)\u001b[0m\n\u001b[0;32m   3802\u001b[0m     \u001b[39mreturn\u001b[39;00m \u001b[39mself\u001b[39m\u001b[39m.\u001b[39m_engine\u001b[39m.\u001b[39mget_loc(casted_key)\n\u001b[0;32m   3803\u001b[0m \u001b[39mexcept\u001b[39;00m \u001b[39mKeyError\u001b[39;00m \u001b[39mas\u001b[39;00m err:\n\u001b[1;32m-> 3804\u001b[0m     \u001b[39mraise\u001b[39;00m \u001b[39mKeyError\u001b[39;00m(key) \u001b[39mfrom\u001b[39;00m \u001b[39merr\u001b[39;00m\n\u001b[0;32m   3805\u001b[0m \u001b[39mexcept\u001b[39;00m \u001b[39mTypeError\u001b[39;00m:\n\u001b[0;32m   3806\u001b[0m     \u001b[39m# If we have a listlike key, _check_indexing_error will raise\u001b[39;00m\n\u001b[0;32m   3807\u001b[0m     \u001b[39m#  InvalidIndexError. Otherwise we fall through and re-raise\u001b[39;00m\n\u001b[0;32m   3808\u001b[0m     \u001b[39m#  the TypeError.\u001b[39;00m\n\u001b[0;32m   3809\u001b[0m     \u001b[39mself\u001b[39m\u001b[39m.\u001b[39m_check_indexing_error(key)\n",
      "\u001b[1;31mKeyError\u001b[0m: 'Date'"
     ]
    }
   ],
   "source": [
    "df[\"Date\"] = pd.to_datetime(df[\"Date\"])"
   ]
  },
  {
   "cell_type": "code",
   "execution_count": null,
   "metadata": {},
   "outputs": [],
   "source": [
    "df.set_index('Date', inplace=True) #nur für Graphik ausführen"
   ]
  },
  {
   "cell_type": "code",
   "execution_count": null,
   "metadata": {},
   "outputs": [
    {
     "data": {
      "text/html": [
       "<div>\n",
       "<style scoped>\n",
       "    .dataframe tbody tr th:only-of-type {\n",
       "        vertical-align: middle;\n",
       "    }\n",
       "\n",
       "    .dataframe tbody tr th {\n",
       "        vertical-align: top;\n",
       "    }\n",
       "\n",
       "    .dataframe thead th {\n",
       "        text-align: right;\n",
       "    }\n",
       "</style>\n",
       "<table border=\"1\" class=\"dataframe\">\n",
       "  <thead>\n",
       "    <tr style=\"text-align: right;\">\n",
       "      <th></th>\n",
       "      <th>Open</th>\n",
       "      <th>High</th>\n",
       "      <th>Low</th>\n",
       "      <th>Close</th>\n",
       "      <th>Adj Close</th>\n",
       "      <th>Volume</th>\n",
       "    </tr>\n",
       "    <tr>\n",
       "      <th>Date</th>\n",
       "      <th></th>\n",
       "      <th></th>\n",
       "      <th></th>\n",
       "      <th></th>\n",
       "      <th></th>\n",
       "      <th></th>\n",
       "    </tr>\n",
       "  </thead>\n",
       "  <tbody>\n",
       "    <tr>\n",
       "      <th>2014-09-17</th>\n",
       "      <td>465.864014</td>\n",
       "      <td>468.174011</td>\n",
       "      <td>452.421997</td>\n",
       "      <td>457.334015</td>\n",
       "      <td>457.334015</td>\n",
       "      <td>21056800</td>\n",
       "    </tr>\n",
       "    <tr>\n",
       "      <th>2014-09-18</th>\n",
       "      <td>456.859985</td>\n",
       "      <td>456.859985</td>\n",
       "      <td>413.104004</td>\n",
       "      <td>424.440002</td>\n",
       "      <td>424.440002</td>\n",
       "      <td>34483200</td>\n",
       "    </tr>\n",
       "    <tr>\n",
       "      <th>2014-09-19</th>\n",
       "      <td>424.102997</td>\n",
       "      <td>427.834991</td>\n",
       "      <td>384.532013</td>\n",
       "      <td>394.795990</td>\n",
       "      <td>394.795990</td>\n",
       "      <td>37919700</td>\n",
       "    </tr>\n",
       "    <tr>\n",
       "      <th>2014-09-20</th>\n",
       "      <td>394.673004</td>\n",
       "      <td>423.295990</td>\n",
       "      <td>389.882996</td>\n",
       "      <td>408.903992</td>\n",
       "      <td>408.903992</td>\n",
       "      <td>36863600</td>\n",
       "    </tr>\n",
       "    <tr>\n",
       "      <th>2014-09-21</th>\n",
       "      <td>408.084991</td>\n",
       "      <td>412.425995</td>\n",
       "      <td>393.181000</td>\n",
       "      <td>398.821014</td>\n",
       "      <td>398.821014</td>\n",
       "      <td>26580100</td>\n",
       "    </tr>\n",
       "    <tr>\n",
       "      <th>...</th>\n",
       "      <td>...</td>\n",
       "      <td>...</td>\n",
       "      <td>...</td>\n",
       "      <td>...</td>\n",
       "      <td>...</td>\n",
       "      <td>...</td>\n",
       "    </tr>\n",
       "    <tr>\n",
       "      <th>2023-08-13</th>\n",
       "      <td>29416.593750</td>\n",
       "      <td>29441.433594</td>\n",
       "      <td>29265.806641</td>\n",
       "      <td>29282.914063</td>\n",
       "      <td>29282.914063</td>\n",
       "      <td>7329897180</td>\n",
       "    </tr>\n",
       "    <tr>\n",
       "      <th>2023-08-14</th>\n",
       "      <td>29283.263672</td>\n",
       "      <td>29660.253906</td>\n",
       "      <td>29124.105469</td>\n",
       "      <td>29408.443359</td>\n",
       "      <td>29408.443359</td>\n",
       "      <td>14013695304</td>\n",
       "    </tr>\n",
       "    <tr>\n",
       "      <th>2023-08-15</th>\n",
       "      <td>29408.048828</td>\n",
       "      <td>29439.121094</td>\n",
       "      <td>29088.853516</td>\n",
       "      <td>29170.347656</td>\n",
       "      <td>29170.347656</td>\n",
       "      <td>12640195779</td>\n",
       "    </tr>\n",
       "    <tr>\n",
       "      <th>2023-08-16</th>\n",
       "      <td>29169.074219</td>\n",
       "      <td>29221.976563</td>\n",
       "      <td>28701.779297</td>\n",
       "      <td>28701.779297</td>\n",
       "      <td>28701.779297</td>\n",
       "      <td>14949271904</td>\n",
       "    </tr>\n",
       "    <tr>\n",
       "      <th>2023-08-17</th>\n",
       "      <td>28715.777344</td>\n",
       "      <td>28735.630859</td>\n",
       "      <td>28042.050781</td>\n",
       "      <td>28056.431641</td>\n",
       "      <td>28056.431641</td>\n",
       "      <td>19215843328</td>\n",
       "    </tr>\n",
       "  </tbody>\n",
       "</table>\n",
       "<p>3257 rows × 6 columns</p>\n",
       "</div>"
      ],
      "text/plain": [
       "                    Open          High           Low         Close  \\\n",
       "Date                                                                 \n",
       "2014-09-17    465.864014    468.174011    452.421997    457.334015   \n",
       "2014-09-18    456.859985    456.859985    413.104004    424.440002   \n",
       "2014-09-19    424.102997    427.834991    384.532013    394.795990   \n",
       "2014-09-20    394.673004    423.295990    389.882996    408.903992   \n",
       "2014-09-21    408.084991    412.425995    393.181000    398.821014   \n",
       "...                  ...           ...           ...           ...   \n",
       "2023-08-13  29416.593750  29441.433594  29265.806641  29282.914063   \n",
       "2023-08-14  29283.263672  29660.253906  29124.105469  29408.443359   \n",
       "2023-08-15  29408.048828  29439.121094  29088.853516  29170.347656   \n",
       "2023-08-16  29169.074219  29221.976563  28701.779297  28701.779297   \n",
       "2023-08-17  28715.777344  28735.630859  28042.050781  28056.431641   \n",
       "\n",
       "               Adj Close       Volume  \n",
       "Date                                   \n",
       "2014-09-17    457.334015     21056800  \n",
       "2014-09-18    424.440002     34483200  \n",
       "2014-09-19    394.795990     37919700  \n",
       "2014-09-20    408.903992     36863600  \n",
       "2014-09-21    398.821014     26580100  \n",
       "...                  ...          ...  \n",
       "2023-08-13  29282.914063   7329897180  \n",
       "2023-08-14  29408.443359  14013695304  \n",
       "2023-08-15  29170.347656  12640195779  \n",
       "2023-08-16  28701.779297  14949271904  \n",
       "2023-08-17  28056.431641  19215843328  \n",
       "\n",
       "[3257 rows x 6 columns]"
      ]
     },
     "execution_count": 20,
     "metadata": {},
     "output_type": "execute_result"
    }
   ],
   "source": [
    "df"
   ]
  },
  {
   "cell_type": "code",
   "execution_count": 82,
   "metadata": {},
   "outputs": [],
   "source": [
    "p1 = df.iloc[0][\"Open\"]"
   ]
  },
  {
   "cell_type": "code",
   "execution_count": 83,
   "metadata": {},
   "outputs": [
    {
     "data": {
      "text/plain": [
       "28715.777344"
      ]
     },
     "execution_count": 83,
     "metadata": {},
     "output_type": "execute_result"
    }
   ],
   "source": [
    "p2 = df.iloc[-1][\"Open\"]\n",
    "p2"
   ]
  },
  {
   "cell_type": "code",
   "execution_count": 84,
   "metadata": {},
   "outputs": [
    {
     "data": {
      "text/plain": [
       "67549.734375"
      ]
     },
     "execution_count": 84,
     "metadata": {},
     "output_type": "execute_result"
    }
   ],
   "source": [
    "p3 = float(df[df[\"Open\"] == df[\"Open\"].max()].get(\"Open\"))\n",
    "p3"
   ]
  },
  {
   "cell_type": "code",
   "execution_count": 85,
   "metadata": {},
   "outputs": [
    {
     "data": {
      "text/plain": [
       "6063.982724795738"
      ]
     },
     "execution_count": 85,
     "metadata": {},
     "output_type": "execute_result"
    }
   ],
   "source": [
    "r1 = (p2-p1)/p1*100\n",
    "r1"
   ]
  },
  {
   "cell_type": "code",
   "execution_count": 86,
   "metadata": {},
   "outputs": [
    {
     "data": {
      "text/plain": [
       "14399.88244316291"
      ]
     },
     "execution_count": 86,
     "metadata": {},
     "output_type": "execute_result"
    }
   ],
   "source": [
    "r2 = (p3-p1)/p1*100\n",
    "r2"
   ]
  },
  {
   "cell_type": "code",
   "execution_count": 87,
   "metadata": {},
   "outputs": [
    {
     "data": {
      "image/png": "[encoded data removed]",
      "text/plain": [
       "<Figure size 1000x500 with 1 Axes>"
      ]
     },
     "metadata": {},
     "output_type": "display_data"
    }
   ],
   "source": [
    "ax = df.plot(y = 'Open', kind = 'line', figsize=(10, 5), color=\"orange\", label='BTC/USD')\n",
    "\n",
    "# Legende anzeigen\n",
    "plt.ylabel(\"Preis ($)\")\n",
    "plt.xlabel(\"Jahr\")\n",
    "plt.legend()\n",
    "plt.title(\"Preisentwicklung\")\n",
    "# Plot anzeigen\n",
    "plt.show()  "
   ]
  },
  {
   "cell_type": "code",
   "execution_count": 88,
   "metadata": {},
   "outputs": [],
   "source": [
    "df = df.drop(columns=[\"High\", \"Low\", \"Adj Close\", \"Volume\"])"
   ]
  },
  {
   "cell_type": "code",
   "execution_count": 89,
   "metadata": {},
   "outputs": [],
   "source": [
    "vola = (df[\"Close\"] - df[\"Open\"])/df[\"Open\"]*100"
   ]
  },
  {
   "cell_type": "code",
   "execution_count": 90,
   "metadata": {},
   "outputs": [],
   "source": [
    "vola_ln = np.log(df[\"Close\"] / df[\"Open\"])*100"
   ]
  },
  {
   "cell_type": "code",
   "execution_count": 91,
   "metadata": {},
   "outputs": [
    {
     "data": {
      "text/plain": [
       "Date\n",
       "2014-09-17   -1.831006\n",
       "2014-09-18   -7.096262\n",
       "2014-09-19   -6.910351\n",
       "2014-09-20    3.605767\n",
       "2014-09-21   -2.270110\n",
       "                ...   \n",
       "2023-08-13   -0.454436\n",
       "2023-08-14    0.427479\n",
       "2023-08-15   -0.808286\n",
       "2023-08-16   -1.602022\n",
       "2023-08-17   -2.296110\n",
       "Length: 3257, dtype: float64"
      ]
     },
     "execution_count": 91,
     "metadata": {},
     "output_type": "execute_result"
    }
   ],
   "source": [
    "vola"
   ]
  },
  {
   "cell_type": "code",
   "execution_count": 92,
   "metadata": {},
   "outputs": [
    {
     "data": {
      "text/plain": [
       "Date\n",
       "2014-09-17   -1.847977\n",
       "2014-09-18   -7.360631\n",
       "2014-09-19   -7.160719\n",
       "2014-09-20    3.542281\n",
       "2014-09-21   -2.296273\n",
       "                ...   \n",
       "2023-08-13   -0.455472\n",
       "2023-08-14    0.426568\n",
       "2023-08-15   -0.811570\n",
       "2023-08-16   -1.614993\n",
       "2023-08-17   -2.322881\n",
       "Length: 3257, dtype: float64"
      ]
     },
     "execution_count": 92,
     "metadata": {},
     "output_type": "execute_result"
    }
   ],
   "source": [
    "vola_ln"
   ]
  },
  {
   "cell_type": "code",
   "execution_count": 93,
   "metadata": {},
   "outputs": [],
   "source": [
    "df[\"Price Change (in %)\"] = vola_ln"
   ]
  },
  {
   "cell_type": "code",
   "execution_count": 94,
   "metadata": {},
   "outputs": [
    {
     "name": "stdout",
     "output_type": "stream",
     "text": [
      "<class 'pandas.core.frame.DataFrame'>\n",
      "DatetimeIndex: 3257 entries, 2014-09-17 to 2023-08-17\n",
      "Data columns (total 3 columns):\n",
      " #   Column               Non-Null Count  Dtype  \n",
      "---  ------               --------------  -----  \n",
      " 0   Open                 3257 non-null   float64\n",
      " 1   Close                3257 non-null   float64\n",
      " 2   Price Change (in %)  3257 non-null   float64\n",
      "dtypes: float64(3)\n",
      "memory usage: 101.8 KB\n"
     ]
    }
   ],
   "source": [
    "df.info()"
   ]
  },
  {
   "cell_type": "code",
   "execution_count": 95,
   "metadata": {},
   "outputs": [
    {
     "ename": "KeyError",
     "evalue": "'Date'",
     "output_type": "error",
     "traceback": [
      "\u001b[1;31m---------------------------------------------------------------------------\u001b[0m",
      "\u001b[1;31mKeyError\u001b[0m                                  Traceback (most recent call last)",
      "File \u001b[1;32mc:\\Users\\Henning\\AppData\\Local\\Programs\\Python\\Python311\\Lib\\site-packages\\pandas\\core\\indexes\\base.py:3802\u001b[0m, in \u001b[0;36mIndex.get_loc\u001b[1;34m(self, key, method, tolerance)\u001b[0m\n\u001b[0;32m   3801\u001b[0m \u001b[39mtry\u001b[39;00m:\n\u001b[1;32m-> 3802\u001b[0m     \u001b[39mreturn\u001b[39;00m \u001b[39mself\u001b[39;49m\u001b[39m.\u001b[39;49m_engine\u001b[39m.\u001b[39;49mget_loc(casted_key)\n\u001b[0;32m   3803\u001b[0m \u001b[39mexcept\u001b[39;00m \u001b[39mKeyError\u001b[39;00m \u001b[39mas\u001b[39;00m err:\n",
      "File \u001b[1;32mc:\\Users\\Henning\\AppData\\Local\\Programs\\Python\\Python311\\Lib\\site-packages\\pandas\\_libs\\index.pyx:138\u001b[0m, in \u001b[0;36mpandas._libs.index.IndexEngine.get_loc\u001b[1;34m()\u001b[0m\n",
      "File \u001b[1;32mc:\\Users\\Henning\\AppData\\Local\\Programs\\Python\\Python311\\Lib\\site-packages\\pandas\\_libs\\index.pyx:165\u001b[0m, in \u001b[0;36mpandas._libs.index.IndexEngine.get_loc\u001b[1;34m()\u001b[0m\n",
      "File \u001b[1;32mpandas\\_libs\\hashtable_class_helper.pxi:5745\u001b[0m, in \u001b[0;36mpandas._libs.hashtable.PyObjectHashTable.get_item\u001b[1;34m()\u001b[0m\n",
      "File \u001b[1;32mpandas\\_libs\\hashtable_class_helper.pxi:5753\u001b[0m, in \u001b[0;36mpandas._libs.hashtable.PyObjectHashTable.get_item\u001b[1;34m()\u001b[0m\n",
      "\u001b[1;31mKeyError\u001b[0m: 'Date'",
      "\nThe above exception was the direct cause of the following exception:\n",
      "\u001b[1;31mKeyError\u001b[0m                                  Traceback (most recent call last)",
      "\u001b[1;32mc:\\Users\\Henning\\Desktop\\Studium\\bachelor_thesis\\bitcoin_vola_v2.ipynb Cell 37\u001b[0m line \u001b[0;36m1\n\u001b[1;32m----> <a href='vscode-notebook-cell:/c%3A/Users/Henning/Desktop/Studium/bachelor_thesis/bitcoin_vola_v2.ipynb#X51sZmlsZQ%3D%3D?line=0'>1</a>\u001b[0m df[\u001b[39m\"\u001b[39m\u001b[39mDate\u001b[39m\u001b[39m\"\u001b[39m] \u001b[39m=\u001b[39m pd\u001b[39m.\u001b[39mto_datetime(df[\u001b[39m\"\u001b[39;49m\u001b[39mDate\u001b[39;49m\u001b[39m\"\u001b[39;49m]) \u001b[39m# Für Regressionsdaten ausführen\u001b[39;00m\n",
      "File \u001b[1;32mc:\\Users\\Henning\\AppData\\Local\\Programs\\Python\\Python311\\Lib\\site-packages\\pandas\\core\\frame.py:3807\u001b[0m, in \u001b[0;36mDataFrame.__getitem__\u001b[1;34m(self, key)\u001b[0m\n\u001b[0;32m   3805\u001b[0m \u001b[39mif\u001b[39;00m \u001b[39mself\u001b[39m\u001b[39m.\u001b[39mcolumns\u001b[39m.\u001b[39mnlevels \u001b[39m>\u001b[39m \u001b[39m1\u001b[39m:\n\u001b[0;32m   3806\u001b[0m     \u001b[39mreturn\u001b[39;00m \u001b[39mself\u001b[39m\u001b[39m.\u001b[39m_getitem_multilevel(key)\n\u001b[1;32m-> 3807\u001b[0m indexer \u001b[39m=\u001b[39m \u001b[39mself\u001b[39;49m\u001b[39m.\u001b[39;49mcolumns\u001b[39m.\u001b[39;49mget_loc(key)\n\u001b[0;32m   3808\u001b[0m \u001b[39mif\u001b[39;00m is_integer(indexer):\n\u001b[0;32m   3809\u001b[0m     indexer \u001b[39m=\u001b[39m [indexer]\n",
      "File \u001b[1;32mc:\\Users\\Henning\\AppData\\Local\\Programs\\Python\\Python311\\Lib\\site-packages\\pandas\\core\\indexes\\base.py:3804\u001b[0m, in \u001b[0;36mIndex.get_loc\u001b[1;34m(self, key, method, tolerance)\u001b[0m\n\u001b[0;32m   3802\u001b[0m     \u001b[39mreturn\u001b[39;00m \u001b[39mself\u001b[39m\u001b[39m.\u001b[39m_engine\u001b[39m.\u001b[39mget_loc(casted_key)\n\u001b[0;32m   3803\u001b[0m \u001b[39mexcept\u001b[39;00m \u001b[39mKeyError\u001b[39;00m \u001b[39mas\u001b[39;00m err:\n\u001b[1;32m-> 3804\u001b[0m     \u001b[39mraise\u001b[39;00m \u001b[39mKeyError\u001b[39;00m(key) \u001b[39mfrom\u001b[39;00m \u001b[39merr\u001b[39;00m\n\u001b[0;32m   3805\u001b[0m \u001b[39mexcept\u001b[39;00m \u001b[39mTypeError\u001b[39;00m:\n\u001b[0;32m   3806\u001b[0m     \u001b[39m# If we have a listlike key, _check_indexing_error will raise\u001b[39;00m\n\u001b[0;32m   3807\u001b[0m     \u001b[39m#  InvalidIndexError. Otherwise we fall through and re-raise\u001b[39;00m\n\u001b[0;32m   3808\u001b[0m     \u001b[39m#  the TypeError.\u001b[39;00m\n\u001b[0;32m   3809\u001b[0m     \u001b[39mself\u001b[39m\u001b[39m.\u001b[39m_check_indexing_error(key)\n",
      "\u001b[1;31mKeyError\u001b[0m: 'Date'"
     ]
    }
   ],
   "source": [
    "df[\"Date\"] = pd.to_datetime(df[\"Date\"]) # Für Regressionsdaten ausführen"
   ]
  },
  {
   "cell_type": "code",
   "execution_count": 97,
   "metadata": {},
   "outputs": [
    {
     "name": "stdout",
     "output_type": "stream",
     "text": [
      "<class 'pandas.core.frame.DataFrame'>\n",
      "DatetimeIndex: 3257 entries, 2014-09-17 to 2023-08-17\n",
      "Data columns (total 3 columns):\n",
      " #   Column               Non-Null Count  Dtype  \n",
      "---  ------               --------------  -----  \n",
      " 0   Open                 3257 non-null   float64\n",
      " 1   Close                3257 non-null   float64\n",
      " 2   Price Change (in %)  3257 non-null   float64\n",
      "dtypes: float64(3)\n",
      "memory usage: 101.8 KB\n"
     ]
    }
   ],
   "source": [
    "df.info()"
   ]
  },
  {
   "cell_type": "code",
   "execution_count": 98,
   "metadata": {},
   "outputs": [],
   "source": [
    "df[\"Vola\"] = df[\"Price Change (in %)\"].rolling(30).std()"
   ]
  },
  {
   "cell_type": "code",
   "execution_count": 99,
   "metadata": {},
   "outputs": [
    {
     "data": {
      "text/html": [
       "<div>\n",
       "<style scoped>\n",
       "    .dataframe tbody tr th:only-of-type {\n",
       "        vertical-align: middle;\n",
       "    }\n",
       "\n",
       "    .dataframe tbody tr th {\n",
       "        vertical-align: top;\n",
       "    }\n",
       "\n",
       "    .dataframe thead th {\n",
       "        text-align: right;\n",
       "    }\n",
       "</style>\n",
       "<table border=\"1\" class=\"dataframe\">\n",
       "  <thead>\n",
       "    <tr style=\"text-align: right;\">\n",
       "      <th></th>\n",
       "      <th>Open</th>\n",
       "      <th>Close</th>\n",
       "      <th>Price Change (in %)</th>\n",
       "      <th>Vola</th>\n",
       "    </tr>\n",
       "    <tr>\n",
       "      <th>Date</th>\n",
       "      <th></th>\n",
       "      <th></th>\n",
       "      <th></th>\n",
       "      <th></th>\n",
       "    </tr>\n",
       "  </thead>\n",
       "  <tbody>\n",
       "    <tr>\n",
       "      <th>2020-04-06</th>\n",
       "      <td>6788.049805</td>\n",
       "      <td>7271.78125</td>\n",
       "      <td>6.883759</td>\n",
       "      <td>10.323018</td>\n",
       "    </tr>\n",
       "  </tbody>\n",
       "</table>\n",
       "</div>"
      ],
      "text/plain": [
       "                   Open       Close  Price Change (in %)       Vola\n",
       "Date                                                               \n",
       "2020-04-06  6788.049805  7271.78125             6.883759  10.323018"
      ]
     },
     "execution_count": 99,
     "metadata": {},
     "output_type": "execute_result"
    }
   ],
   "source": [
    "df[df[\"Vola\"] == df[\"Vola\"].max()] # get maximum of volatility with date etc."
   ]
  },
  {
   "cell_type": "code",
   "execution_count": 100,
   "metadata": {},
   "outputs": [
    {
     "data": {
      "text/html": [
       "<div>\n",
       "<style scoped>\n",
       "    .dataframe tbody tr th:only-of-type {\n",
       "        vertical-align: middle;\n",
       "    }\n",
       "\n",
       "    .dataframe tbody tr th {\n",
       "        vertical-align: top;\n",
       "    }\n",
       "\n",
       "    .dataframe thead th {\n",
       "        text-align: right;\n",
       "    }\n",
       "</style>\n",
       "<table border=\"1\" class=\"dataframe\">\n",
       "  <thead>\n",
       "    <tr style=\"text-align: right;\">\n",
       "      <th></th>\n",
       "      <th>Open</th>\n",
       "      <th>Close</th>\n",
       "      <th>Price Change (in %)</th>\n",
       "      <th>Vola</th>\n",
       "    </tr>\n",
       "    <tr>\n",
       "      <th>Date</th>\n",
       "      <th></th>\n",
       "      <th></th>\n",
       "      <th></th>\n",
       "      <th></th>\n",
       "    </tr>\n",
       "  </thead>\n",
       "  <tbody>\n",
       "    <tr>\n",
       "      <th>2016-10-09</th>\n",
       "      <td>619.171997</td>\n",
       "      <td>616.752014</td>\n",
       "      <td>-0.391608</td>\n",
       "      <td>0.709243</td>\n",
       "    </tr>\n",
       "  </tbody>\n",
       "</table>\n",
       "</div>"
      ],
      "text/plain": [
       "                  Open       Close  Price Change (in %)      Vola\n",
       "Date                                                             \n",
       "2016-10-09  619.171997  616.752014            -0.391608  0.709243"
      ]
     },
     "execution_count": 100,
     "metadata": {},
     "output_type": "execute_result"
    }
   ],
   "source": [
    "df[df[\"Vola\"] == df[\"Vola\"].min()] # get minimum of volatility with date etc."
   ]
  },
  {
   "cell_type": "code",
   "execution_count": 101,
   "metadata": {},
   "outputs": [],
   "source": [
    "df_s[\"Date\"] = pd.to_datetime(df_s[\"Date\"])"
   ]
  },
  {
   "cell_type": "code",
   "execution_count": 102,
   "metadata": {},
   "outputs": [],
   "source": [
    "df_t[\"Date\"] = pd.to_datetime(df_t[\"Date\"])"
   ]
  },
  {
   "cell_type": "code",
   "execution_count": 103,
   "metadata": {},
   "outputs": [],
   "source": [
    "df_regression = pd.merge(df, df_s, on='Date', how='inner')\n",
    "df_regression = pd.merge(df_regression, df_t, on='Date', how='inner')"
   ]
  },
  {
   "cell_type": "code",
   "execution_count": 104,
   "metadata": {},
   "outputs": [
    {
     "name": "stdout",
     "output_type": "stream",
     "text": [
      "<class 'pandas.core.frame.DataFrame'>\n",
      "Int64Index: 3101 entries, 0 to 3100\n",
      "Data columns (total 7 columns):\n",
      " #   Column               Non-Null Count  Dtype         \n",
      "---  ------               --------------  -----         \n",
      " 0   Date                 3101 non-null   datetime64[ns]\n",
      " 1   Open                 3101 non-null   float64       \n",
      " 2   Close                3101 non-null   float64       \n",
      " 3   Price Change (in %)  3101 non-null   float64       \n",
      " 4   Vola                 3072 non-null   float64       \n",
      " 5   Supply               3101 non-null   float64       \n",
      " 6   Tweets               3045 non-null   float64       \n",
      "dtypes: datetime64[ns](1), float64(6)\n",
      "memory usage: 193.8 KB\n"
     ]
    }
   ],
   "source": [
    "df_regression.info()"
   ]
  },
  {
   "cell_type": "code",
   "execution_count": 105,
   "metadata": {},
   "outputs": [],
   "source": [
    "df_regression.columns = [\"date\", \"open\", \"close\", \"delta_price\", \"vola\", \"btc\", \"twtr\"]"
   ]
  },
  {
   "cell_type": "code",
   "execution_count": 106,
   "metadata": {},
   "outputs": [
    {
     "data": {
      "text/html": [
       "<div>\n",
       "<style scoped>\n",
       "    .dataframe tbody tr th:only-of-type {\n",
       "        vertical-align: middle;\n",
       "    }\n",
       "\n",
       "    .dataframe tbody tr th {\n",
       "        vertical-align: top;\n",
       "    }\n",
       "\n",
       "    .dataframe thead th {\n",
       "        text-align: right;\n",
       "    }\n",
       "</style>\n",
       "<table border=\"1\" class=\"dataframe\">\n",
       "  <thead>\n",
       "    <tr style=\"text-align: right;\">\n",
       "      <th></th>\n",
       "      <th>date</th>\n",
       "      <th>open</th>\n",
       "      <th>close</th>\n",
       "      <th>delta_price</th>\n",
       "      <th>vola</th>\n",
       "      <th>btc</th>\n",
       "      <th>twtr</th>\n",
       "    </tr>\n",
       "  </thead>\n",
       "  <tbody>\n",
       "    <tr>\n",
       "      <th>29</th>\n",
       "      <td>2014-10-16</td>\n",
       "      <td>394.518005</td>\n",
       "      <td>382.556000</td>\n",
       "      <td>-3.078973</td>\n",
       "      <td>3.929193</td>\n",
       "      <td>13389925.00</td>\n",
       "      <td>24445.0</td>\n",
       "    </tr>\n",
       "    <tr>\n",
       "      <th>30</th>\n",
       "      <td>2014-10-17</td>\n",
       "      <td>382.756012</td>\n",
       "      <td>383.757996</td>\n",
       "      <td>0.261439</td>\n",
       "      <td>3.925964</td>\n",
       "      <td>13398050.00</td>\n",
       "      <td>21491.0</td>\n",
       "    </tr>\n",
       "    <tr>\n",
       "      <th>31</th>\n",
       "      <td>2014-10-18</td>\n",
       "      <td>383.976013</td>\n",
       "      <td>391.441986</td>\n",
       "      <td>1.925724</td>\n",
       "      <td>3.734644</td>\n",
       "      <td>13401400.00</td>\n",
       "      <td>20572.0</td>\n",
       "    </tr>\n",
       "    <tr>\n",
       "      <th>32</th>\n",
       "      <td>2014-10-19</td>\n",
       "      <td>391.253998</td>\n",
       "      <td>389.545990</td>\n",
       "      <td>-0.437503</td>\n",
       "      <td>3.501603</td>\n",
       "      <td>13401650.00</td>\n",
       "      <td>18259.0</td>\n",
       "    </tr>\n",
       "    <tr>\n",
       "      <th>33</th>\n",
       "      <td>2014-10-20</td>\n",
       "      <td>389.230988</td>\n",
       "      <td>382.845001</td>\n",
       "      <td>-1.654276</td>\n",
       "      <td>3.445854</td>\n",
       "      <td>13408350.00</td>\n",
       "      <td>23312.0</td>\n",
       "    </tr>\n",
       "    <tr>\n",
       "      <th>...</th>\n",
       "      <td>...</td>\n",
       "      <td>...</td>\n",
       "      <td>...</td>\n",
       "      <td>...</td>\n",
       "      <td>...</td>\n",
       "      <td>...</td>\n",
       "      <td>...</td>\n",
       "    </tr>\n",
       "    <tr>\n",
       "      <th>3096</th>\n",
       "      <td>2023-03-10</td>\n",
       "      <td>20367.001953</td>\n",
       "      <td>20187.244141</td>\n",
       "      <td>-0.886511</td>\n",
       "      <td>2.830922</td>\n",
       "      <td>19313787.50</td>\n",
       "      <td>120160.0</td>\n",
       "    </tr>\n",
       "    <tr>\n",
       "      <th>3097</th>\n",
       "      <td>2023-03-11</td>\n",
       "      <td>20187.876953</td>\n",
       "      <td>20632.410156</td>\n",
       "      <td>2.178087</td>\n",
       "      <td>2.730530</td>\n",
       "      <td>19314656.25</td>\n",
       "      <td>107064.0</td>\n",
       "    </tr>\n",
       "    <tr>\n",
       "      <th>3098</th>\n",
       "      <td>2023-03-12</td>\n",
       "      <td>20628.029297</td>\n",
       "      <td>22163.949219</td>\n",
       "      <td>7.181626</td>\n",
       "      <td>3.040426</td>\n",
       "      <td>19315843.75</td>\n",
       "      <td>120467.0</td>\n",
       "    </tr>\n",
       "    <tr>\n",
       "      <th>3099</th>\n",
       "      <td>2023-03-13</td>\n",
       "      <td>22156.406250</td>\n",
       "      <td>24197.533203</td>\n",
       "      <td>8.812402</td>\n",
       "      <td>3.431566</td>\n",
       "      <td>19316837.50</td>\n",
       "      <td>198796.0</td>\n",
       "    </tr>\n",
       "    <tr>\n",
       "      <th>3100</th>\n",
       "      <td>2023-03-14</td>\n",
       "      <td>24201.765625</td>\n",
       "      <td>24746.074219</td>\n",
       "      <td>2.224127</td>\n",
       "      <td>3.445716</td>\n",
       "      <td>19317737.50</td>\n",
       "      <td>203783.0</td>\n",
       "    </tr>\n",
       "  </tbody>\n",
       "</table>\n",
       "<p>3016 rows × 7 columns</p>\n",
       "</div>"
      ],
      "text/plain": [
       "           date          open         close  delta_price      vola  \\\n",
       "29   2014-10-16    394.518005    382.556000    -3.078973  3.929193   \n",
       "30   2014-10-17    382.756012    383.757996     0.261439  3.925964   \n",
       "31   2014-10-18    383.976013    391.441986     1.925724  3.734644   \n",
       "32   2014-10-19    391.253998    389.545990    -0.437503  3.501603   \n",
       "33   2014-10-20    389.230988    382.845001    -1.654276  3.445854   \n",
       "...         ...           ...           ...          ...       ...   \n",
       "3096 2023-03-10  20367.001953  20187.244141    -0.886511  2.830922   \n",
       "3097 2023-03-11  20187.876953  20632.410156     2.178087  2.730530   \n",
       "3098 2023-03-12  20628.029297  22163.949219     7.181626  3.040426   \n",
       "3099 2023-03-13  22156.406250  24197.533203     8.812402  3.431566   \n",
       "3100 2023-03-14  24201.765625  24746.074219     2.224127  3.445716   \n",
       "\n",
       "              btc      twtr  \n",
       "29    13389925.00   24445.0  \n",
       "30    13398050.00   21491.0  \n",
       "31    13401400.00   20572.0  \n",
       "32    13401650.00   18259.0  \n",
       "33    13408350.00   23312.0  \n",
       "...           ...       ...  \n",
       "3096  19313787.50  120160.0  \n",
       "3097  19314656.25  107064.0  \n",
       "3098  19315843.75  120467.0  \n",
       "3099  19316837.50  198796.0  \n",
       "3100  19317737.50  203783.0  \n",
       "\n",
       "[3016 rows x 7 columns]"
      ]
     },
     "execution_count": 106,
     "metadata": {},
     "output_type": "execute_result"
    }
   ],
   "source": [
    "df_regression.dropna()"
   ]
  },
  {
   "cell_type": "code",
   "execution_count": 107,
   "metadata": {},
   "outputs": [],
   "source": [
    "df_regression.to_csv('regression_data_set.csv', index=False)"
   ]
  },
  {
   "cell_type": "code",
   "execution_count": 108,
   "metadata": {},
   "outputs": [
    {
     "data": {
      "text/html": [
       "<div>\n",
       "<style scoped>\n",
       "    .dataframe tbody tr th:only-of-type {\n",
       "        vertical-align: middle;\n",
       "    }\n",
       "\n",
       "    .dataframe tbody tr th {\n",
       "        vertical-align: top;\n",
       "    }\n",
       "\n",
       "    .dataframe thead th {\n",
       "        text-align: right;\n",
       "    }\n",
       "</style>\n",
       "<table border=\"1\" class=\"dataframe\">\n",
       "  <thead>\n",
       "    <tr style=\"text-align: right;\">\n",
       "      <th></th>\n",
       "      <th>Open</th>\n",
       "      <th>Close</th>\n",
       "      <th>Price Change (in %)</th>\n",
       "      <th>Vola</th>\n",
       "    </tr>\n",
       "    <tr>\n",
       "      <th>Date</th>\n",
       "      <th></th>\n",
       "      <th></th>\n",
       "      <th></th>\n",
       "      <th></th>\n",
       "    </tr>\n",
       "  </thead>\n",
       "  <tbody>\n",
       "    <tr>\n",
       "      <th>2014-10-15</th>\n",
       "      <td>400.954987</td>\n",
       "      <td>394.773010</td>\n",
       "      <td>-1.553823</td>\n",
       "      <td>NaN</td>\n",
       "    </tr>\n",
       "    <tr>\n",
       "      <th>2014-10-16</th>\n",
       "      <td>394.518005</td>\n",
       "      <td>382.556000</td>\n",
       "      <td>-3.078973</td>\n",
       "      <td>3.929193</td>\n",
       "    </tr>\n",
       "    <tr>\n",
       "      <th>2014-10-17</th>\n",
       "      <td>382.756012</td>\n",
       "      <td>383.757996</td>\n",
       "      <td>0.261439</td>\n",
       "      <td>3.925964</td>\n",
       "    </tr>\n",
       "    <tr>\n",
       "      <th>2014-10-18</th>\n",
       "      <td>383.976013</td>\n",
       "      <td>391.441986</td>\n",
       "      <td>1.925724</td>\n",
       "      <td>3.734644</td>\n",
       "    </tr>\n",
       "    <tr>\n",
       "      <th>2014-10-19</th>\n",
       "      <td>391.253998</td>\n",
       "      <td>389.545990</td>\n",
       "      <td>-0.437503</td>\n",
       "      <td>3.501603</td>\n",
       "    </tr>\n",
       "    <tr>\n",
       "      <th>...</th>\n",
       "      <td>...</td>\n",
       "      <td>...</td>\n",
       "      <td>...</td>\n",
       "      <td>...</td>\n",
       "    </tr>\n",
       "    <tr>\n",
       "      <th>2023-08-13</th>\n",
       "      <td>29416.593750</td>\n",
       "      <td>29282.914063</td>\n",
       "      <td>-0.455472</td>\n",
       "      <td>0.894157</td>\n",
       "    </tr>\n",
       "    <tr>\n",
       "      <th>2023-08-14</th>\n",
       "      <td>29283.263672</td>\n",
       "      <td>29408.443359</td>\n",
       "      <td>0.426568</td>\n",
       "      <td>0.899836</td>\n",
       "    </tr>\n",
       "    <tr>\n",
       "      <th>2023-08-15</th>\n",
       "      <td>29408.048828</td>\n",
       "      <td>29170.347656</td>\n",
       "      <td>-0.811570</td>\n",
       "      <td>0.908955</td>\n",
       "    </tr>\n",
       "    <tr>\n",
       "      <th>2023-08-16</th>\n",
       "      <td>29169.074219</td>\n",
       "      <td>28701.779297</td>\n",
       "      <td>-1.614993</td>\n",
       "      <td>0.948073</td>\n",
       "    </tr>\n",
       "    <tr>\n",
       "      <th>2023-08-17</th>\n",
       "      <td>28715.777344</td>\n",
       "      <td>28056.431641</td>\n",
       "      <td>-2.322881</td>\n",
       "      <td>1.017051</td>\n",
       "    </tr>\n",
       "  </tbody>\n",
       "</table>\n",
       "<p>3229 rows × 4 columns</p>\n",
       "</div>"
      ],
      "text/plain": [
       "                    Open         Close  Price Change (in %)      Vola\n",
       "Date                                                                 \n",
       "2014-10-15    400.954987    394.773010            -1.553823       NaN\n",
       "2014-10-16    394.518005    382.556000            -3.078973  3.929193\n",
       "2014-10-17    382.756012    383.757996             0.261439  3.925964\n",
       "2014-10-18    383.976013    391.441986             1.925724  3.734644\n",
       "2014-10-19    391.253998    389.545990            -0.437503  3.501603\n",
       "...                  ...           ...                  ...       ...\n",
       "2023-08-13  29416.593750  29282.914063            -0.455472  0.894157\n",
       "2023-08-14  29283.263672  29408.443359             0.426568  0.899836\n",
       "2023-08-15  29408.048828  29170.347656            -0.811570  0.908955\n",
       "2023-08-16  29169.074219  28701.779297            -1.614993  0.948073\n",
       "2023-08-17  28715.777344  28056.431641            -2.322881  1.017051\n",
       "\n",
       "[3229 rows x 4 columns]"
      ]
     },
     "execution_count": 108,
     "metadata": {},
     "output_type": "execute_result"
    }
   ],
   "source": [
    "df[28:]"
   ]
  },
  {
   "cell_type": "code",
   "execution_count": 109,
   "metadata": {},
   "outputs": [
    {
     "name": "stdout",
     "output_type": "stream",
     "text": [
      "<class 'pandas.core.frame.DataFrame'>\n",
      "DatetimeIndex: 3257 entries, 2014-09-17 to 2023-08-17\n",
      "Data columns (total 4 columns):\n",
      " #   Column               Non-Null Count  Dtype  \n",
      "---  ------               --------------  -----  \n",
      " 0   Open                 3257 non-null   float64\n",
      " 1   Close                3257 non-null   float64\n",
      " 2   Price Change (in %)  3257 non-null   float64\n",
      " 3   Vola                 3228 non-null   float64\n",
      "dtypes: float64(4)\n",
      "memory usage: 127.2 KB\n"
     ]
    }
   ],
   "source": [
    "df.info()"
   ]
  },
  {
   "cell_type": "markdown",
   "metadata": {},
   "source": [
    "##### Value at Risk"
   ]
  },
  {
   "cell_type": "code",
   "execution_count": 113,
   "metadata": {},
   "outputs": [
    {
     "data": {
      "text/html": [
       "<div>\n",
       "<style scoped>\n",
       "    .dataframe tbody tr th:only-of-type {\n",
       "        vertical-align: middle;\n",
       "    }\n",
       "\n",
       "    .dataframe tbody tr th {\n",
       "        vertical-align: top;\n",
       "    }\n",
       "\n",
       "    .dataframe thead th {\n",
       "        text-align: right;\n",
       "    }\n",
       "</style>\n",
       "<table border=\"1\" class=\"dataframe\">\n",
       "  <thead>\n",
       "    <tr style=\"text-align: right;\">\n",
       "      <th></th>\n",
       "      <th>Open</th>\n",
       "      <th>Close</th>\n",
       "      <th>Price Change (in %)</th>\n",
       "      <th>Vola</th>\n",
       "    </tr>\n",
       "    <tr>\n",
       "      <th>Date</th>\n",
       "      <th></th>\n",
       "      <th></th>\n",
       "      <th></th>\n",
       "      <th></th>\n",
       "    </tr>\n",
       "  </thead>\n",
       "  <tbody>\n",
       "    <tr>\n",
       "      <th>2014-09-17</th>\n",
       "      <td>465.864014</td>\n",
       "      <td>457.334015</td>\n",
       "      <td>-1.847977</td>\n",
       "      <td>NaN</td>\n",
       "    </tr>\n",
       "    <tr>\n",
       "      <th>2014-09-18</th>\n",
       "      <td>456.859985</td>\n",
       "      <td>424.440002</td>\n",
       "      <td>-7.360631</td>\n",
       "      <td>NaN</td>\n",
       "    </tr>\n",
       "    <tr>\n",
       "      <th>2014-09-19</th>\n",
       "      <td>424.102997</td>\n",
       "      <td>394.795990</td>\n",
       "      <td>-7.160719</td>\n",
       "      <td>NaN</td>\n",
       "    </tr>\n",
       "    <tr>\n",
       "      <th>2014-09-20</th>\n",
       "      <td>394.673004</td>\n",
       "      <td>408.903992</td>\n",
       "      <td>3.542281</td>\n",
       "      <td>NaN</td>\n",
       "    </tr>\n",
       "    <tr>\n",
       "      <th>2014-09-21</th>\n",
       "      <td>408.084991</td>\n",
       "      <td>398.821014</td>\n",
       "      <td>-2.296273</td>\n",
       "      <td>NaN</td>\n",
       "    </tr>\n",
       "    <tr>\n",
       "      <th>...</th>\n",
       "      <td>...</td>\n",
       "      <td>...</td>\n",
       "      <td>...</td>\n",
       "      <td>...</td>\n",
       "    </tr>\n",
       "    <tr>\n",
       "      <th>2023-08-13</th>\n",
       "      <td>29416.593750</td>\n",
       "      <td>29282.914063</td>\n",
       "      <td>-0.455472</td>\n",
       "      <td>0.894157</td>\n",
       "    </tr>\n",
       "    <tr>\n",
       "      <th>2023-08-14</th>\n",
       "      <td>29283.263672</td>\n",
       "      <td>29408.443359</td>\n",
       "      <td>0.426568</td>\n",
       "      <td>0.899836</td>\n",
       "    </tr>\n",
       "    <tr>\n",
       "      <th>2023-08-15</th>\n",
       "      <td>29408.048828</td>\n",
       "      <td>29170.347656</td>\n",
       "      <td>-0.811570</td>\n",
       "      <td>0.908955</td>\n",
       "    </tr>\n",
       "    <tr>\n",
       "      <th>2023-08-16</th>\n",
       "      <td>29169.074219</td>\n",
       "      <td>28701.779297</td>\n",
       "      <td>-1.614993</td>\n",
       "      <td>0.948073</td>\n",
       "    </tr>\n",
       "    <tr>\n",
       "      <th>2023-08-17</th>\n",
       "      <td>28715.777344</td>\n",
       "      <td>28056.431641</td>\n",
       "      <td>-2.322881</td>\n",
       "      <td>1.017051</td>\n",
       "    </tr>\n",
       "  </tbody>\n",
       "</table>\n",
       "<p>3257 rows × 4 columns</p>\n",
       "</div>"
      ],
      "text/plain": [
       "                    Open         Close  Price Change (in %)      Vola\n",
       "Date                                                                 \n",
       "2014-09-17    465.864014    457.334015            -1.847977       NaN\n",
       "2014-09-18    456.859985    424.440002            -7.360631       NaN\n",
       "2014-09-19    424.102997    394.795990            -7.160719       NaN\n",
       "2014-09-20    394.673004    408.903992             3.542281       NaN\n",
       "2014-09-21    408.084991    398.821014            -2.296273       NaN\n",
       "...                  ...           ...                  ...       ...\n",
       "2023-08-13  29416.593750  29282.914063            -0.455472  0.894157\n",
       "2023-08-14  29283.263672  29408.443359             0.426568  0.899836\n",
       "2023-08-15  29408.048828  29170.347656            -0.811570  0.908955\n",
       "2023-08-16  29169.074219  28701.779297            -1.614993  0.948073\n",
       "2023-08-17  28715.777344  28056.431641            -2.322881  1.017051\n",
       "\n",
       "[3257 rows x 4 columns]"
      ]
     },
     "execution_count": 113,
     "metadata": {},
     "output_type": "execute_result"
    }
   ],
   "source": [
    "df"
   ]
  },
  {
   "cell_type": "code",
   "execution_count": 114,
   "metadata": {},
   "outputs": [
    {
     "data": {
      "text/html": [
       "<div>\n",
       "<style scoped>\n",
       "    .dataframe tbody tr th:only-of-type {\n",
       "        vertical-align: middle;\n",
       "    }\n",
       "\n",
       "    .dataframe tbody tr th {\n",
       "        vertical-align: top;\n",
       "    }\n",
       "\n",
       "    .dataframe thead th {\n",
       "        text-align: right;\n",
       "    }\n",
       "</style>\n",
       "<table border=\"1\" class=\"dataframe\">\n",
       "  <thead>\n",
       "    <tr style=\"text-align: right;\">\n",
       "      <th></th>\n",
       "      <th>Open</th>\n",
       "      <th>Close</th>\n",
       "      <th>Price Change (in %)</th>\n",
       "      <th>Vola</th>\n",
       "    </tr>\n",
       "    <tr>\n",
       "      <th>Date</th>\n",
       "      <th></th>\n",
       "      <th></th>\n",
       "      <th></th>\n",
       "      <th></th>\n",
       "    </tr>\n",
       "  </thead>\n",
       "  <tbody>\n",
       "    <tr>\n",
       "      <th>2020-03-12</th>\n",
       "      <td>7913.616211</td>\n",
       "      <td>4970.788086</td>\n",
       "      <td>-46.500645</td>\n",
       "      <td>8.812052</td>\n",
       "    </tr>\n",
       "  </tbody>\n",
       "</table>\n",
       "</div>"
      ],
      "text/plain": [
       "                   Open        Close  Price Change (in %)      Vola\n",
       "Date                                                               \n",
       "2020-03-12  7913.616211  4970.788086           -46.500645  8.812052"
      ]
     },
     "execution_count": 114,
     "metadata": {},
     "output_type": "execute_result"
    }
   ],
   "source": [
    "df[df[\"Price Change (in %)\"] == df[\"Price Change (in %)\"].min()]"
   ]
  },
  {
   "cell_type": "code",
   "execution_count": 115,
   "metadata": {},
   "outputs": [
    {
     "data": {
      "text/plain": [
       "0.1186509788357778"
      ]
     },
     "execution_count": 115,
     "metadata": {},
     "output_type": "execute_result"
    }
   ],
   "source": [
    "meanv = df[\"Price Change (in %)\"].mean()\n",
    "meanv"
   ]
  },
  {
   "cell_type": "code",
   "execution_count": 116,
   "metadata": {},
   "outputs": [
    {
     "data": {
      "text/plain": [
       "3.7678119922366164"
      ]
     },
     "execution_count": 116,
     "metadata": {},
     "output_type": "execute_result"
    }
   ],
   "source": [
    "stdv = df[\"Price Change (in %)\"].std()\n",
    "stdv"
   ]
  },
  {
   "cell_type": "code",
   "execution_count": 117,
   "metadata": {},
   "outputs": [],
   "source": [
    "z_value = [-1.65, -2.33]"
   ]
  },
  {
   "cell_type": "code",
   "execution_count": 118,
   "metadata": {},
   "outputs": [
    {
     "data": {
      "text/plain": [
       "-6.0982388083546395"
      ]
     },
     "execution_count": 118,
     "metadata": {},
     "output_type": "execute_result"
    }
   ],
   "source": [
    "var_5 = z_value[0]*stdv + meanv\n",
    "var_5"
   ]
  },
  {
   "cell_type": "code",
   "execution_count": 119,
   "metadata": {},
   "outputs": [
    {
     "data": {
      "text/plain": [
       "Text(0.5, 1.0, 'Verteilung der Preisänderungsraten')"
      ]
     },
     "execution_count": 119,
     "metadata": {},
     "output_type": "execute_result"
    },
    {
     "data": {
      "image/png": "[encoded data removed]",
      "text/plain": [
       "<Figure size 640x480 with 1 Axes>"
      ]
     },
     "metadata": {},
     "output_type": "display_data"
    }
   ],
   "source": [
    "plt.hist(df[\"Price Change (in %)\"], bins=10)\n",
    "plt.xlabel('Preisänderungsrate')\n",
    "plt.ylabel('absolute Häufigkeit')\n",
    "plt.title('Verteilung der Preisänderungsraten')"
   ]
  },
  {
   "cell_type": "code",
   "execution_count": 120,
   "metadata": {},
   "outputs": [],
   "source": [
    "alpha = 0.05"
   ]
  },
  {
   "cell_type": "code",
   "execution_count": 121,
   "metadata": {},
   "outputs": [
    {
     "data": {
      "text/plain": [
       "<matplotlib.legend.Legend at 0x214e1d82b50>"
      ]
     },
     "execution_count": 121,
     "metadata": {},
     "output_type": "execute_result"
    },
    {
     "data": {
      "image/png": "[encoded data removed]",
      "text/plain": [
       "<Figure size 640x480 with 1 Axes>"
      ]
     },
     "metadata": {},
     "output_type": "display_data"
    }
   ],
   "source": [
    "sns.histplot(data=df, x=\"Price Change (in %)\", stat=\"count\")\n",
    "plt.xlabel('Preisänderungsrate in %')\n",
    "plt.ylabel('Absolute Häufigkeit')\n",
    "plt.title('Verteilung der Preisänderungsraten')\n",
    "\n",
    "var = np.percentile(df[\"Price Change (in %)\"], 100 * alpha)\n",
    "\n",
    "# Vertikale Linie für den VaR einzeichnen\n",
    "plt.axvline(var, color='purple', linestyle='--', label=f'VaR ({alpha*100:.2f}%)')\n",
    "\n",
    "plt.xticks(range(-50, 30, 5))\n",
    "\n",
    "plt.legend()"
   ]
  },
  {
   "cell_type": "code",
   "execution_count": 122,
   "metadata": {},
   "outputs": [
    {
     "data": {
      "text/plain": [
       "-6.0647048437236455"
      ]
     },
     "execution_count": 122,
     "metadata": {},
     "output_type": "execute_result"
    }
   ],
   "source": [
    "var"
   ]
  },
  {
   "cell_type": "code",
   "execution_count": 123,
   "metadata": {},
   "outputs": [
    {
     "data": {
      "text/plain": [
       "ShapiroResult(statistic=0.9026855230331421, pvalue=1.979614340551669e-41)"
      ]
     },
     "execution_count": 123,
     "metadata": {},
     "output_type": "execute_result"
    }
   ],
   "source": [
    "from scipy.stats import shapiro\n",
    "\n",
    "#perform Shapiro-Wilk test\n",
    "shapiro(df[\"Price Change (in %)\"])\n",
    "\n"
   ]
  },
  {
   "cell_type": "code",
   "execution_count": 124,
   "metadata": {},
   "outputs": [
    {
     "data": {
      "text/plain": [
       "KstestResult(statistic=0.2063604096299564, pvalue=4.0786867612529423e-122, statistic_location=1.4023421222399812, statistic_sign=-1)"
      ]
     },
     "execution_count": 124,
     "metadata": {},
     "output_type": "execute_result"
    }
   ],
   "source": [
    "from scipy.stats import kstest\n",
    "\n",
    "kstest(df[\"Price Change (in %)\"], 'norm')"
   ]
  },
  {
   "cell_type": "code",
   "execution_count": 125,
   "metadata": {},
   "outputs": [
    {
     "data": {
      "text/plain": [
       "<matplotlib.legend.Legend at 0x214ea386250>"
      ]
     },
     "execution_count": 125,
     "metadata": {},
     "output_type": "execute_result"
    },
    {
     "data": {
      "image/png": "[encoded data removed]",
      "text/plain": [
       "<Figure size 500x500 with 1 Axes>"
      ]
     },
     "metadata": {},
     "output_type": "display_data"
    }
   ],
   "source": [
    "sns.displot(df, x=\"Price Change (in %)\", kind=\"kde\", fill=True, linewidth=1.5)\n",
    "plt.text(0.8, 0.2, \"N = {}\".format(len(df[\"Price Change (in %)\"])), transform=plt.gca().transAxes)\n",
    "plt.xlabel('Preisänderungsrate in %')\n",
    "plt.ylabel('Dichte')\n",
    "plt.title('Dichtefunktion der Preisänderungsraten')\n",
    "plt.axvline(var, color='purple', linestyle='--', label=f'VaR ({alpha*100:.2f}%)')\n",
    "plt.legend(loc=\"upper left\")\n"
   ]
  },
  {
   "cell_type": "code",
   "execution_count": 126,
   "metadata": {},
   "outputs": [
    {
     "name": "stdout",
     "output_type": "stream",
     "text": [
      "-0.7628914646860823\n"
     ]
    }
   ],
   "source": [
    "from scipy.stats import skew \n",
    "  \n",
    "# Calculate the skewness \n",
    "print(skew(df[\"Price Change (in %)\"], axis=0, bias=True))\n"
   ]
  },
  {
   "cell_type": "code",
   "execution_count": 127,
   "metadata": {},
   "outputs": [
    {
     "name": "stdout",
     "output_type": "stream",
     "text": [
      "11.288944103585807\n"
     ]
    }
   ],
   "source": [
    "from scipy.stats import kurtosis \n",
    "  \n",
    "# Calculate the kurtosis \n",
    "print(kurtosis(df[\"Price Change (in %)\"], axis=0, bias=True))"
   ]
  },
  {
   "cell_type": "markdown",
   "metadata": {},
   "source": [
    "##### Plotting Bitcoin Volatility"
   ]
  },
  {
   "cell_type": "code",
   "execution_count": 110,
   "metadata": {},
   "outputs": [
    {
     "data": {
      "text/plain": [
       "Text(0.5, 0, 'Jahr')"
      ]
     },
     "execution_count": 110,
     "metadata": {},
     "output_type": "execute_result"
    },
    {
     "data": {
      "image/png": "[encoded data removed]",
      "text/plain": [
       "<Figure size 1000x1000 with 1 Axes>"
      ]
     },
     "metadata": {},
     "output_type": "display_data"
    }
   ],
   "source": [
    "df_months.plot(y = 'Vola', kind = 'line', figsize=(10, 10), color=\"orange\")\n",
    "plt.ylabel(\"⌀ der rollenden 30-Tage-Volatilität (pro Monat)\")\n",
    "plt.xlabel(\"Jahr\")"
   ]
  },
  {
   "cell_type": "code",
   "execution_count": 456,
   "metadata": {},
   "outputs": [],
   "source": [
    "#df['Number'] = np.arange(len(df))+1"
   ]
  },
  {
   "cell_type": "code",
   "execution_count": 45,
   "metadata": {},
   "outputs": [
    {
     "data": {
      "text/html": [
       "<div>\n",
       "<style scoped>\n",
       "    .dataframe tbody tr th:only-of-type {\n",
       "        vertical-align: middle;\n",
       "    }\n",
       "\n",
       "    .dataframe tbody tr th {\n",
       "        vertical-align: top;\n",
       "    }\n",
       "\n",
       "    .dataframe thead th {\n",
       "        text-align: right;\n",
       "    }\n",
       "</style>\n",
       "<table border=\"1\" class=\"dataframe\">\n",
       "  <thead>\n",
       "    <tr style=\"text-align: right;\">\n",
       "      <th></th>\n",
       "      <th>Date</th>\n",
       "      <th>Open</th>\n",
       "      <th>Close</th>\n",
       "      <th>Price Change (in %)</th>\n",
       "      <th>Vola</th>\n",
       "    </tr>\n",
       "  </thead>\n",
       "  <tbody>\n",
       "    <tr>\n",
       "      <th>0</th>\n",
       "      <td>2014-09-17</td>\n",
       "      <td>465.864014</td>\n",
       "      <td>457.334015</td>\n",
       "      <td>-1.847977</td>\n",
       "      <td>NaN</td>\n",
       "    </tr>\n",
       "    <tr>\n",
       "      <th>1</th>\n",
       "      <td>2014-09-18</td>\n",
       "      <td>456.859985</td>\n",
       "      <td>424.440002</td>\n",
       "      <td>-7.360631</td>\n",
       "      <td>NaN</td>\n",
       "    </tr>\n",
       "    <tr>\n",
       "      <th>2</th>\n",
       "      <td>2014-09-19</td>\n",
       "      <td>424.102997</td>\n",
       "      <td>394.795990</td>\n",
       "      <td>-7.160719</td>\n",
       "      <td>NaN</td>\n",
       "    </tr>\n",
       "    <tr>\n",
       "      <th>3</th>\n",
       "      <td>2014-09-20</td>\n",
       "      <td>394.673004</td>\n",
       "      <td>408.903992</td>\n",
       "      <td>3.542281</td>\n",
       "      <td>NaN</td>\n",
       "    </tr>\n",
       "    <tr>\n",
       "      <th>4</th>\n",
       "      <td>2014-09-21</td>\n",
       "      <td>408.084991</td>\n",
       "      <td>398.821014</td>\n",
       "      <td>-2.296273</td>\n",
       "      <td>NaN</td>\n",
       "    </tr>\n",
       "    <tr>\n",
       "      <th>...</th>\n",
       "      <td>...</td>\n",
       "      <td>...</td>\n",
       "      <td>...</td>\n",
       "      <td>...</td>\n",
       "      <td>...</td>\n",
       "    </tr>\n",
       "    <tr>\n",
       "      <th>3252</th>\n",
       "      <td>2023-08-13</td>\n",
       "      <td>29416.593750</td>\n",
       "      <td>29282.914063</td>\n",
       "      <td>-0.455472</td>\n",
       "      <td>0.894157</td>\n",
       "    </tr>\n",
       "    <tr>\n",
       "      <th>3253</th>\n",
       "      <td>2023-08-14</td>\n",
       "      <td>29283.263672</td>\n",
       "      <td>29408.443359</td>\n",
       "      <td>0.426568</td>\n",
       "      <td>0.899836</td>\n",
       "    </tr>\n",
       "    <tr>\n",
       "      <th>3254</th>\n",
       "      <td>2023-08-15</td>\n",
       "      <td>29408.048828</td>\n",
       "      <td>29170.347656</td>\n",
       "      <td>-0.811570</td>\n",
       "      <td>0.908955</td>\n",
       "    </tr>\n",
       "    <tr>\n",
       "      <th>3255</th>\n",
       "      <td>2023-08-16</td>\n",
       "      <td>29169.074219</td>\n",
       "      <td>28701.779297</td>\n",
       "      <td>-1.614993</td>\n",
       "      <td>0.948073</td>\n",
       "    </tr>\n",
       "    <tr>\n",
       "      <th>3256</th>\n",
       "      <td>2023-08-17</td>\n",
       "      <td>28715.777344</td>\n",
       "      <td>28056.431641</td>\n",
       "      <td>-2.322881</td>\n",
       "      <td>1.017051</td>\n",
       "    </tr>\n",
       "  </tbody>\n",
       "</table>\n",
       "<p>3257 rows × 5 columns</p>\n",
       "</div>"
      ],
      "text/plain": [
       "           Date          Open         Close  Price Change (in %)      Vola\n",
       "0    2014-09-17    465.864014    457.334015            -1.847977       NaN\n",
       "1    2014-09-18    456.859985    424.440002            -7.360631       NaN\n",
       "2    2014-09-19    424.102997    394.795990            -7.160719       NaN\n",
       "3    2014-09-20    394.673004    408.903992             3.542281       NaN\n",
       "4    2014-09-21    408.084991    398.821014            -2.296273       NaN\n",
       "...         ...           ...           ...                  ...       ...\n",
       "3252 2023-08-13  29416.593750  29282.914063            -0.455472  0.894157\n",
       "3253 2023-08-14  29283.263672  29408.443359             0.426568  0.899836\n",
       "3254 2023-08-15  29408.048828  29170.347656            -0.811570  0.908955\n",
       "3255 2023-08-16  29169.074219  28701.779297            -1.614993  0.948073\n",
       "3256 2023-08-17  28715.777344  28056.431641            -2.322881  1.017051\n",
       "\n",
       "[3257 rows x 5 columns]"
      ]
     },
     "execution_count": 45,
     "metadata": {},
     "output_type": "execute_result"
    }
   ],
   "source": [
    "df"
   ]
  },
  {
   "cell_type": "code",
   "execution_count": 46,
   "metadata": {},
   "outputs": [],
   "source": [
    "df.set_index('Date', inplace=True)"
   ]
  },
  {
   "cell_type": "code",
   "execution_count": 47,
   "metadata": {},
   "outputs": [
    {
     "data": {
      "text/plain": [
       "DatetimeIndex(['2014-09-17', '2014-09-18', '2014-09-19', '2014-09-20',\n",
       "               '2014-09-21', '2014-09-22', '2014-09-23', '2014-09-24',\n",
       "               '2014-09-25', '2014-09-26',\n",
       "               ...\n",
       "               '2023-08-08', '2023-08-09', '2023-08-10', '2023-08-11',\n",
       "               '2023-08-12', '2023-08-13', '2023-08-14', '2023-08-15',\n",
       "               '2023-08-16', '2023-08-17'],\n",
       "              dtype='datetime64[ns]', name='Date', length=3257, freq=None)"
      ]
     },
     "execution_count": 47,
     "metadata": {},
     "output_type": "execute_result"
    }
   ],
   "source": [
    "df.index"
   ]
  },
  {
   "cell_type": "code",
   "execution_count": 48,
   "metadata": {},
   "outputs": [
    {
     "data": {
      "image/png": "[encoded data removed]",
      "text/plain": [
       "<Figure size 1000x500 with 1 Axes>"
      ]
     },
     "metadata": {},
     "output_type": "display_data"
    }
   ],
   "source": [
    "ax = df.plot(y = 'Vola', kind = 'line', figsize=(10, 5), color=\"orange\", label='BTC/USD')\n",
    "\n",
    "# Legende anzeigen\n",
    "plt.ylabel(\"Rollende 30-Tage-Volatilität\")\n",
    "plt.xlabel(\"Jahr\")\n",
    "plt.legend()\n",
    "plt.title(\"Volatilität I\")\n",
    "# Plot anzeigen\n",
    "plt.show()  "
   ]
  },
  {
   "cell_type": "code",
   "execution_count": 28,
   "metadata": {},
   "outputs": [
    {
     "data": {
      "image/png": "[encoded data removed]",
      "text/plain": [
       "<Figure size 1000x500 with 1 Axes>"
      ]
     },
     "metadata": {},
     "output_type": "display_data"
    }
   ],
   "source": [
    "import seaborn as sns\n",
    "\n",
    "df.index = df.index.map(pd.Timestamp.toordinal)\n",
    "\n",
    "ax = df.plot(y = 'Vola', kind = 'line', figsize=(10, 5), color=\"orange\", label='BTC/USD')\n",
    "\n",
    "\n",
    "# Trendlinie hinzufügen\n",
    "# convert the regression line start date to ordinal\n",
    "x1 = pd.to_datetime('2021-01-01').toordinal()\n",
    "\n",
    "# data slice for the regression line\n",
    "data_sample = df.loc[x1:].reset_index()\n",
    "\n",
    "# add a regression line\n",
    "sns.regplot(data=data_sample, x='Date', y='Vola', ax=ax, color='magenta', scatter_kws={'s': 7}, label='2021-Trendlinie', scatter=False)\n",
    "\n",
    "#ax.set_xlim(df.index[0], df.index[-1])\n",
    "\n",
    "# convert the axis back to datetime\n",
    "xticks = ax.get_xticks()\n",
    "labels = [pd.Timestamp.fromordinal(int(label)).strftime(\"%Y\") for label in xticks]\n",
    "ax.set_xticks(xticks)\n",
    "ax.set_xticklabels(labels)\n",
    "\n",
    "# Legende anzeigen\n",
    "plt.ylabel(\"Rollende 30-Tage-Volatilität\")\n",
    "plt.xlabel(\"Jahr\")\n",
    "plt.legend()\n",
    "plt.title(\"Volatilität III\")\n",
    "# Plot anzeigen\n",
    "plt.show()"
   ]
  },
  {
   "cell_type": "code",
   "execution_count": 431,
   "metadata": {},
   "outputs": [],
   "source": [
    "#import sklearn as skl"
   ]
  },
  {
   "cell_type": "code",
   "execution_count": null,
   "metadata": {},
   "outputs": [],
   "source": [
    "# create the model\n",
    "model = LinearRegression()\n",
    "\n",
    "# extract x and y from dataframe data\n",
    "x = data[['Date']]\n",
    "y = data[['Adj Close']]\n",
    "\n",
    "# fit the mode\n",
    "model.fit(x, y)\n",
    "\n",
    "# print the slope and intercept if desired\n",
    "print('intercept:', model.intercept_)\n",
    "print('slope:', model.coef_)"
   ]
  },
  {
   "cell_type": "code",
   "execution_count": 122,
   "metadata": {},
   "outputs": [],
   "source": [
    "df_year = df.resample(\"Y\", on=\"Date\").mean()"
   ]
  },
  {
   "cell_type": "code",
   "execution_count": 123,
   "metadata": {},
   "outputs": [
    {
     "data": {
      "text/html": [
       "<div>\n",
       "<style scoped>\n",
       "    .dataframe tbody tr th:only-of-type {\n",
       "        vertical-align: middle;\n",
       "    }\n",
       "\n",
       "    .dataframe tbody tr th {\n",
       "        vertical-align: top;\n",
       "    }\n",
       "\n",
       "    .dataframe thead th {\n",
       "        text-align: right;\n",
       "    }\n",
       "</style>\n",
       "<table border=\"1\" class=\"dataframe\">\n",
       "  <thead>\n",
       "    <tr style=\"text-align: right;\">\n",
       "      <th></th>\n",
       "      <th>Open</th>\n",
       "      <th>Close</th>\n",
       "      <th>Price Change (in %)</th>\n",
       "      <th>Vola</th>\n",
       "    </tr>\n",
       "    <tr>\n",
       "      <th>Date</th>\n",
       "      <th></th>\n",
       "      <th></th>\n",
       "      <th></th>\n",
       "      <th></th>\n",
       "    </tr>\n",
       "  </thead>\n",
       "  <tbody>\n",
       "    <tr>\n",
       "      <th>2014-12-31</th>\n",
       "      <td>365.058217</td>\n",
       "      <td>363.693085</td>\n",
       "      <td>-0.350761</td>\n",
       "      <td>3.223299</td>\n",
       "    </tr>\n",
       "    <tr>\n",
       "      <th>2015-12-31</th>\n",
       "      <td>272.149011</td>\n",
       "      <td>272.453381</td>\n",
       "      <td>0.077263</td>\n",
       "      <td>3.215468</td>\n",
       "    </tr>\n",
       "    <tr>\n",
       "      <th>2016-12-31</th>\n",
       "      <td>567.141429</td>\n",
       "      <td>568.492407</td>\n",
       "      <td>0.201065</td>\n",
       "      <td>2.230946</td>\n",
       "    </tr>\n",
       "    <tr>\n",
       "      <th>2017-12-31</th>\n",
       "      <td>3970.644848</td>\n",
       "      <td>4006.033629</td>\n",
       "      <td>0.717575</td>\n",
       "      <td>4.407353</td>\n",
       "    </tr>\n",
       "    <tr>\n",
       "      <th>2018-12-31</th>\n",
       "      <td>7601.018680</td>\n",
       "      <td>7572.298947</td>\n",
       "      <td>-0.370635</td>\n",
       "      <td>4.105667</td>\n",
       "    </tr>\n",
       "    <tr>\n",
       "      <th>2019-12-31</th>\n",
       "      <td>7385.218456</td>\n",
       "      <td>7395.246282</td>\n",
       "      <td>0.187000</td>\n",
       "      <td>3.410236</td>\n",
       "    </tr>\n",
       "    <tr>\n",
       "      <th>2020-12-31</th>\n",
       "      <td>11056.787201</td>\n",
       "      <td>11116.378092</td>\n",
       "      <td>0.378631</td>\n",
       "      <td>3.379715</td>\n",
       "    </tr>\n",
       "    <tr>\n",
       "      <th>2021-12-31</th>\n",
       "      <td>47402.115663</td>\n",
       "      <td>47436.932021</td>\n",
       "      <td>0.103257</td>\n",
       "      <td>4.092669</td>\n",
       "    </tr>\n",
       "    <tr>\n",
       "      <th>2022-12-31</th>\n",
       "      <td>28278.690293</td>\n",
       "      <td>28197.754099</td>\n",
       "      <td>-0.279839</td>\n",
       "      <td>3.283281</td>\n",
       "    </tr>\n",
       "    <tr>\n",
       "      <th>2023-12-31</th>\n",
       "      <td>26317.536444</td>\n",
       "      <td>26368.304560</td>\n",
       "      <td>0.230660</td>\n",
       "      <td>2.227765</td>\n",
       "    </tr>\n",
       "  </tbody>\n",
       "</table>\n",
       "</div>"
      ],
      "text/plain": [
       "                    Open         Close  Price Change (in %)      Vola\n",
       "Date                                                                 \n",
       "2014-12-31    365.058217    363.693085            -0.350761  3.223299\n",
       "2015-12-31    272.149011    272.453381             0.077263  3.215468\n",
       "2016-12-31    567.141429    568.492407             0.201065  2.230946\n",
       "2017-12-31   3970.644848   4006.033629             0.717575  4.407353\n",
       "2018-12-31   7601.018680   7572.298947            -0.370635  4.105667\n",
       "2019-12-31   7385.218456   7395.246282             0.187000  3.410236\n",
       "2020-12-31  11056.787201  11116.378092             0.378631  3.379715\n",
       "2021-12-31  47402.115663  47436.932021             0.103257  4.092669\n",
       "2022-12-31  28278.690293  28197.754099            -0.279839  3.283281\n",
       "2023-12-31  26317.536444  26368.304560             0.230660  2.227765"
      ]
     },
     "execution_count": 123,
     "metadata": {},
     "output_type": "execute_result"
    }
   ],
   "source": [
    "df_year"
   ]
  },
  {
   "cell_type": "code",
   "execution_count": 126,
   "metadata": {},
   "outputs": [
    {
     "data": {
      "text/plain": [
       "Text(0, 0.5, '⌀ der rollenden 30-Tage-Volatilität (pro Jahr)')"
      ]
     },
     "execution_count": 126,
     "metadata": {},
     "output_type": "execute_result"
    },
    {
     "data": {
      "image/png": "[encoded data removed]",
      "text/plain": [
       "<Figure size 1000x500 with 1 Axes>"
      ]
     },
     "metadata": {},
     "output_type": "display_data"
    }
   ],
   "source": [
    "df_year.plot(y = 'Vola', kind = 'line', figsize=(10, 5), color=\"orange\")\n",
    "plt.ylabel(\"⌀ der rollenden 30-Tage-Volatilität (pro Jahr)\")"
   ]
  },
  {
   "attachments": {},
   "cell_type": "markdown",
   "metadata": {},
   "source": [
    "##### US-Dollar volatility"
   ]
  },
  {
   "cell_type": "code",
   "execution_count": 54,
   "metadata": {},
   "outputs": [],
   "source": [
    "usd = pd.read_csv(\"EUR=X.csv\")"
   ]
  },
  {
   "cell_type": "code",
   "execution_count": 55,
   "metadata": {},
   "outputs": [],
   "source": [
    "usd_df = pd.DataFrame(usd)"
   ]
  },
  {
   "cell_type": "code",
   "execution_count": 56,
   "metadata": {},
   "outputs": [
    {
     "data": {
      "text/html": [
       "<div>\n",
       "<style scoped>\n",
       "    .dataframe tbody tr th:only-of-type {\n",
       "        vertical-align: middle;\n",
       "    }\n",
       "\n",
       "    .dataframe tbody tr th {\n",
       "        vertical-align: top;\n",
       "    }\n",
       "\n",
       "    .dataframe thead th {\n",
       "        text-align: right;\n",
       "    }\n",
       "</style>\n",
       "<table border=\"1\" class=\"dataframe\">\n",
       "  <thead>\n",
       "    <tr style=\"text-align: right;\">\n",
       "      <th></th>\n",
       "      <th>Date</th>\n",
       "      <th>Open</th>\n",
       "      <th>High</th>\n",
       "      <th>Low</th>\n",
       "      <th>Close</th>\n",
       "      <th>Adj Close</th>\n",
       "      <th>Volume</th>\n",
       "    </tr>\n",
       "  </thead>\n",
       "  <tbody>\n",
       "    <tr>\n",
       "      <th>0</th>\n",
       "      <td>2003-12-01</td>\n",
       "      <td>0.83098</td>\n",
       "      <td>0.83724</td>\n",
       "      <td>0.83056</td>\n",
       "      <td>0.83577</td>\n",
       "      <td>0.83577</td>\n",
       "      <td>0.0</td>\n",
       "    </tr>\n",
       "    <tr>\n",
       "      <th>1</th>\n",
       "      <td>2003-12-02</td>\n",
       "      <td>0.83605</td>\n",
       "      <td>0.83710</td>\n",
       "      <td>0.82583</td>\n",
       "      <td>0.82720</td>\n",
       "      <td>0.82720</td>\n",
       "      <td>0.0</td>\n",
       "    </tr>\n",
       "    <tr>\n",
       "      <th>2</th>\n",
       "      <td>2003-12-03</td>\n",
       "      <td>0.82713</td>\n",
       "      <td>0.82802</td>\n",
       "      <td>0.82440</td>\n",
       "      <td>0.82488</td>\n",
       "      <td>0.82488</td>\n",
       "      <td>0.0</td>\n",
       "    </tr>\n",
       "    <tr>\n",
       "      <th>3</th>\n",
       "      <td>2003-12-04</td>\n",
       "      <td>0.82508</td>\n",
       "      <td>0.83029</td>\n",
       "      <td>0.82345</td>\n",
       "      <td>0.82775</td>\n",
       "      <td>0.82775</td>\n",
       "      <td>0.0</td>\n",
       "    </tr>\n",
       "    <tr>\n",
       "      <th>4</th>\n",
       "      <td>2003-12-05</td>\n",
       "      <td>0.82795</td>\n",
       "      <td>0.82878</td>\n",
       "      <td>0.82028</td>\n",
       "      <td>0.82055</td>\n",
       "      <td>0.82055</td>\n",
       "      <td>0.0</td>\n",
       "    </tr>\n",
       "    <tr>\n",
       "      <th>...</th>\n",
       "      <td>...</td>\n",
       "      <td>...</td>\n",
       "      <td>...</td>\n",
       "      <td>...</td>\n",
       "      <td>...</td>\n",
       "      <td>...</td>\n",
       "      <td>...</td>\n",
       "    </tr>\n",
       "    <tr>\n",
       "      <th>5059</th>\n",
       "      <td>2023-04-21</td>\n",
       "      <td>0.91150</td>\n",
       "      <td>0.91410</td>\n",
       "      <td>0.90971</td>\n",
       "      <td>0.91150</td>\n",
       "      <td>0.91150</td>\n",
       "      <td>0.0</td>\n",
       "    </tr>\n",
       "    <tr>\n",
       "      <th>5060</th>\n",
       "      <td>2023-04-24</td>\n",
       "      <td>0.90973</td>\n",
       "      <td>0.91168</td>\n",
       "      <td>0.90627</td>\n",
       "      <td>0.90973</td>\n",
       "      <td>0.90973</td>\n",
       "      <td>0.0</td>\n",
       "    </tr>\n",
       "    <tr>\n",
       "      <th>5061</th>\n",
       "      <td>2023-04-25</td>\n",
       "      <td>0.90420</td>\n",
       "      <td>0.91164</td>\n",
       "      <td>0.90350</td>\n",
       "      <td>0.90420</td>\n",
       "      <td>0.90420</td>\n",
       "      <td>0.0</td>\n",
       "    </tr>\n",
       "    <tr>\n",
       "      <th>5062</th>\n",
       "      <td>2023-04-26</td>\n",
       "      <td>0.91088</td>\n",
       "      <td>0.91164</td>\n",
       "      <td>0.90138</td>\n",
       "      <td>0.91088</td>\n",
       "      <td>0.91088</td>\n",
       "      <td>0.0</td>\n",
       "    </tr>\n",
       "    <tr>\n",
       "      <th>5063</th>\n",
       "      <td>2023-04-27</td>\n",
       "      <td>0.90530</td>\n",
       "      <td>0.90600</td>\n",
       "      <td>0.90360</td>\n",
       "      <td>0.90550</td>\n",
       "      <td>0.90550</td>\n",
       "      <td>0.0</td>\n",
       "    </tr>\n",
       "  </tbody>\n",
       "</table>\n",
       "<p>5064 rows × 7 columns</p>\n",
       "</div>"
      ],
      "text/plain": [
       "            Date     Open     High      Low    Close  Adj Close  Volume\n",
       "0     2003-12-01  0.83098  0.83724  0.83056  0.83577    0.83577     0.0\n",
       "1     2003-12-02  0.83605  0.83710  0.82583  0.82720    0.82720     0.0\n",
       "2     2003-12-03  0.82713  0.82802  0.82440  0.82488    0.82488     0.0\n",
       "3     2003-12-04  0.82508  0.83029  0.82345  0.82775    0.82775     0.0\n",
       "4     2003-12-05  0.82795  0.82878  0.82028  0.82055    0.82055     0.0\n",
       "...          ...      ...      ...      ...      ...        ...     ...\n",
       "5059  2023-04-21  0.91150  0.91410  0.90971  0.91150    0.91150     0.0\n",
       "5060  2023-04-24  0.90973  0.91168  0.90627  0.90973    0.90973     0.0\n",
       "5061  2023-04-25  0.90420  0.91164  0.90350  0.90420    0.90420     0.0\n",
       "5062  2023-04-26  0.91088  0.91164  0.90138  0.91088    0.91088     0.0\n",
       "5063  2023-04-27  0.90530  0.90600  0.90360  0.90550    0.90550     0.0\n",
       "\n",
       "[5064 rows x 7 columns]"
      ]
     },
     "execution_count": 56,
     "metadata": {},
     "output_type": "execute_result"
    }
   ],
   "source": [
    "usd_df"
   ]
  },
  {
   "cell_type": "code",
   "execution_count": 57,
   "metadata": {},
   "outputs": [],
   "source": [
    "usd_df = usd_df.drop(columns=[\"High\", \"Low\", \"Adj Close\", \"Volume\"])"
   ]
  },
  {
   "cell_type": "code",
   "execution_count": 58,
   "metadata": {
    "scrolled": false
   },
   "outputs": [
    {
     "data": {
      "text/html": [
       "<div>\n",
       "<style scoped>\n",
       "    .dataframe tbody tr th:only-of-type {\n",
       "        vertical-align: middle;\n",
       "    }\n",
       "\n",
       "    .dataframe tbody tr th {\n",
       "        vertical-align: top;\n",
       "    }\n",
       "\n",
       "    .dataframe thead th {\n",
       "        text-align: right;\n",
       "    }\n",
       "</style>\n",
       "<table border=\"1\" class=\"dataframe\">\n",
       "  <thead>\n",
       "    <tr style=\"text-align: right;\">\n",
       "      <th></th>\n",
       "      <th>Date</th>\n",
       "      <th>Open</th>\n",
       "      <th>Close</th>\n",
       "    </tr>\n",
       "  </thead>\n",
       "  <tbody>\n",
       "    <tr>\n",
       "      <th>0</th>\n",
       "      <td>2003-12-01</td>\n",
       "      <td>0.83098</td>\n",
       "      <td>0.83577</td>\n",
       "    </tr>\n",
       "    <tr>\n",
       "      <th>1</th>\n",
       "      <td>2003-12-02</td>\n",
       "      <td>0.83605</td>\n",
       "      <td>0.82720</td>\n",
       "    </tr>\n",
       "    <tr>\n",
       "      <th>2</th>\n",
       "      <td>2003-12-03</td>\n",
       "      <td>0.82713</td>\n",
       "      <td>0.82488</td>\n",
       "    </tr>\n",
       "    <tr>\n",
       "      <th>3</th>\n",
       "      <td>2003-12-04</td>\n",
       "      <td>0.82508</td>\n",
       "      <td>0.82775</td>\n",
       "    </tr>\n",
       "    <tr>\n",
       "      <th>4</th>\n",
       "      <td>2003-12-05</td>\n",
       "      <td>0.82795</td>\n",
       "      <td>0.82055</td>\n",
       "    </tr>\n",
       "    <tr>\n",
       "      <th>...</th>\n",
       "      <td>...</td>\n",
       "      <td>...</td>\n",
       "      <td>...</td>\n",
       "    </tr>\n",
       "    <tr>\n",
       "      <th>5059</th>\n",
       "      <td>2023-04-21</td>\n",
       "      <td>0.91150</td>\n",
       "      <td>0.91150</td>\n",
       "    </tr>\n",
       "    <tr>\n",
       "      <th>5060</th>\n",
       "      <td>2023-04-24</td>\n",
       "      <td>0.90973</td>\n",
       "      <td>0.90973</td>\n",
       "    </tr>\n",
       "    <tr>\n",
       "      <th>5061</th>\n",
       "      <td>2023-04-25</td>\n",
       "      <td>0.90420</td>\n",
       "      <td>0.90420</td>\n",
       "    </tr>\n",
       "    <tr>\n",
       "      <th>5062</th>\n",
       "      <td>2023-04-26</td>\n",
       "      <td>0.91088</td>\n",
       "      <td>0.91088</td>\n",
       "    </tr>\n",
       "    <tr>\n",
       "      <th>5063</th>\n",
       "      <td>2023-04-27</td>\n",
       "      <td>0.90530</td>\n",
       "      <td>0.90550</td>\n",
       "    </tr>\n",
       "  </tbody>\n",
       "</table>\n",
       "<p>5064 rows × 3 columns</p>\n",
       "</div>"
      ],
      "text/plain": [
       "            Date     Open    Close\n",
       "0     2003-12-01  0.83098  0.83577\n",
       "1     2003-12-02  0.83605  0.82720\n",
       "2     2003-12-03  0.82713  0.82488\n",
       "3     2003-12-04  0.82508  0.82775\n",
       "4     2003-12-05  0.82795  0.82055\n",
       "...          ...      ...      ...\n",
       "5059  2023-04-21  0.91150  0.91150\n",
       "5060  2023-04-24  0.90973  0.90973\n",
       "5061  2023-04-25  0.90420  0.90420\n",
       "5062  2023-04-26  0.91088  0.91088\n",
       "5063  2023-04-27  0.90530  0.90550\n",
       "\n",
       "[5064 rows x 3 columns]"
      ]
     },
     "execution_count": 58,
     "metadata": {},
     "output_type": "execute_result"
    }
   ],
   "source": [
    "usd_df"
   ]
  },
  {
   "cell_type": "code",
   "execution_count": 59,
   "metadata": {},
   "outputs": [],
   "source": [
    "vola_usd = (usd_df[\"Close\"] - usd_df[\"Open\"])/usd_df[\"Open\"]*100"
   ]
  },
  {
   "cell_type": "code",
   "execution_count": 60,
   "metadata": {},
   "outputs": [],
   "source": [
    "usd_df[\"Price Change (in %)\"] = vola_usd"
   ]
  },
  {
   "cell_type": "code",
   "execution_count": 61,
   "metadata": {},
   "outputs": [
    {
     "data": {
      "text/html": [
       "<div>\n",
       "<style scoped>\n",
       "    .dataframe tbody tr th:only-of-type {\n",
       "        vertical-align: middle;\n",
       "    }\n",
       "\n",
       "    .dataframe tbody tr th {\n",
       "        vertical-align: top;\n",
       "    }\n",
       "\n",
       "    .dataframe thead th {\n",
       "        text-align: right;\n",
       "    }\n",
       "</style>\n",
       "<table border=\"1\" class=\"dataframe\">\n",
       "  <thead>\n",
       "    <tr style=\"text-align: right;\">\n",
       "      <th></th>\n",
       "      <th>Date</th>\n",
       "      <th>Open</th>\n",
       "      <th>Close</th>\n",
       "      <th>Price Change (in %)</th>\n",
       "    </tr>\n",
       "  </thead>\n",
       "  <tbody>\n",
       "    <tr>\n",
       "      <th>0</th>\n",
       "      <td>2003-12-01</td>\n",
       "      <td>0.83098</td>\n",
       "      <td>0.83577</td>\n",
       "      <td>0.576428</td>\n",
       "    </tr>\n",
       "    <tr>\n",
       "      <th>1</th>\n",
       "      <td>2003-12-02</td>\n",
       "      <td>0.83605</td>\n",
       "      <td>0.82720</td>\n",
       "      <td>-1.058549</td>\n",
       "    </tr>\n",
       "    <tr>\n",
       "      <th>2</th>\n",
       "      <td>2003-12-03</td>\n",
       "      <td>0.82713</td>\n",
       "      <td>0.82488</td>\n",
       "      <td>-0.272025</td>\n",
       "    </tr>\n",
       "    <tr>\n",
       "      <th>3</th>\n",
       "      <td>2003-12-04</td>\n",
       "      <td>0.82508</td>\n",
       "      <td>0.82775</td>\n",
       "      <td>0.323605</td>\n",
       "    </tr>\n",
       "    <tr>\n",
       "      <th>4</th>\n",
       "      <td>2003-12-05</td>\n",
       "      <td>0.82795</td>\n",
       "      <td>0.82055</td>\n",
       "      <td>-0.893774</td>\n",
       "    </tr>\n",
       "    <tr>\n",
       "      <th>...</th>\n",
       "      <td>...</td>\n",
       "      <td>...</td>\n",
       "      <td>...</td>\n",
       "      <td>...</td>\n",
       "    </tr>\n",
       "    <tr>\n",
       "      <th>5059</th>\n",
       "      <td>2023-04-21</td>\n",
       "      <td>0.91150</td>\n",
       "      <td>0.91150</td>\n",
       "      <td>0.000000</td>\n",
       "    </tr>\n",
       "    <tr>\n",
       "      <th>5060</th>\n",
       "      <td>2023-04-24</td>\n",
       "      <td>0.90973</td>\n",
       "      <td>0.90973</td>\n",
       "      <td>0.000000</td>\n",
       "    </tr>\n",
       "    <tr>\n",
       "      <th>5061</th>\n",
       "      <td>2023-04-25</td>\n",
       "      <td>0.90420</td>\n",
       "      <td>0.90420</td>\n",
       "      <td>0.000000</td>\n",
       "    </tr>\n",
       "    <tr>\n",
       "      <th>5062</th>\n",
       "      <td>2023-04-26</td>\n",
       "      <td>0.91088</td>\n",
       "      <td>0.91088</td>\n",
       "      <td>0.000000</td>\n",
       "    </tr>\n",
       "    <tr>\n",
       "      <th>5063</th>\n",
       "      <td>2023-04-27</td>\n",
       "      <td>0.90530</td>\n",
       "      <td>0.90550</td>\n",
       "      <td>0.022092</td>\n",
       "    </tr>\n",
       "  </tbody>\n",
       "</table>\n",
       "<p>5064 rows × 4 columns</p>\n",
       "</div>"
      ],
      "text/plain": [
       "            Date     Open    Close  Price Change (in %)\n",
       "0     2003-12-01  0.83098  0.83577             0.576428\n",
       "1     2003-12-02  0.83605  0.82720            -1.058549\n",
       "2     2003-12-03  0.82713  0.82488            -0.272025\n",
       "3     2003-12-04  0.82508  0.82775             0.323605\n",
       "4     2003-12-05  0.82795  0.82055            -0.893774\n",
       "...          ...      ...      ...                  ...\n",
       "5059  2023-04-21  0.91150  0.91150             0.000000\n",
       "5060  2023-04-24  0.90973  0.90973             0.000000\n",
       "5061  2023-04-25  0.90420  0.90420             0.000000\n",
       "5062  2023-04-26  0.91088  0.91088             0.000000\n",
       "5063  2023-04-27  0.90530  0.90550             0.022092\n",
       "\n",
       "[5064 rows x 4 columns]"
      ]
     },
     "execution_count": 61,
     "metadata": {},
     "output_type": "execute_result"
    }
   ],
   "source": [
    "usd_df"
   ]
  },
  {
   "cell_type": "code",
   "execution_count": 62,
   "metadata": {},
   "outputs": [],
   "source": [
    "usd_df[\"Date\"] = pd.to_datetime(usd_df[\"Date\"])"
   ]
  },
  {
   "cell_type": "code",
   "execution_count": 63,
   "metadata": {},
   "outputs": [
    {
     "data": {
      "text/html": [
       "<div>\n",
       "<style scoped>\n",
       "    .dataframe tbody tr th:only-of-type {\n",
       "        vertical-align: middle;\n",
       "    }\n",
       "\n",
       "    .dataframe tbody tr th {\n",
       "        vertical-align: top;\n",
       "    }\n",
       "\n",
       "    .dataframe thead th {\n",
       "        text-align: right;\n",
       "    }\n",
       "</style>\n",
       "<table border=\"1\" class=\"dataframe\">\n",
       "  <thead>\n",
       "    <tr style=\"text-align: right;\">\n",
       "      <th></th>\n",
       "      <th>Date</th>\n",
       "      <th>Open</th>\n",
       "      <th>Close</th>\n",
       "      <th>Price Change (in %)</th>\n",
       "    </tr>\n",
       "  </thead>\n",
       "  <tbody>\n",
       "    <tr>\n",
       "      <th>0</th>\n",
       "      <td>2003-12-01</td>\n",
       "      <td>0.83098</td>\n",
       "      <td>0.83577</td>\n",
       "      <td>0.576428</td>\n",
       "    </tr>\n",
       "    <tr>\n",
       "      <th>1</th>\n",
       "      <td>2003-12-02</td>\n",
       "      <td>0.83605</td>\n",
       "      <td>0.82720</td>\n",
       "      <td>-1.058549</td>\n",
       "    </tr>\n",
       "    <tr>\n",
       "      <th>2</th>\n",
       "      <td>2003-12-03</td>\n",
       "      <td>0.82713</td>\n",
       "      <td>0.82488</td>\n",
       "      <td>-0.272025</td>\n",
       "    </tr>\n",
       "    <tr>\n",
       "      <th>3</th>\n",
       "      <td>2003-12-04</td>\n",
       "      <td>0.82508</td>\n",
       "      <td>0.82775</td>\n",
       "      <td>0.323605</td>\n",
       "    </tr>\n",
       "    <tr>\n",
       "      <th>4</th>\n",
       "      <td>2003-12-05</td>\n",
       "      <td>0.82795</td>\n",
       "      <td>0.82055</td>\n",
       "      <td>-0.893774</td>\n",
       "    </tr>\n",
       "    <tr>\n",
       "      <th>...</th>\n",
       "      <td>...</td>\n",
       "      <td>...</td>\n",
       "      <td>...</td>\n",
       "      <td>...</td>\n",
       "    </tr>\n",
       "    <tr>\n",
       "      <th>5059</th>\n",
       "      <td>2023-04-21</td>\n",
       "      <td>0.91150</td>\n",
       "      <td>0.91150</td>\n",
       "      <td>0.000000</td>\n",
       "    </tr>\n",
       "    <tr>\n",
       "      <th>5060</th>\n",
       "      <td>2023-04-24</td>\n",
       "      <td>0.90973</td>\n",
       "      <td>0.90973</td>\n",
       "      <td>0.000000</td>\n",
       "    </tr>\n",
       "    <tr>\n",
       "      <th>5061</th>\n",
       "      <td>2023-04-25</td>\n",
       "      <td>0.90420</td>\n",
       "      <td>0.90420</td>\n",
       "      <td>0.000000</td>\n",
       "    </tr>\n",
       "    <tr>\n",
       "      <th>5062</th>\n",
       "      <td>2023-04-26</td>\n",
       "      <td>0.91088</td>\n",
       "      <td>0.91088</td>\n",
       "      <td>0.000000</td>\n",
       "    </tr>\n",
       "    <tr>\n",
       "      <th>5063</th>\n",
       "      <td>2023-04-27</td>\n",
       "      <td>0.90530</td>\n",
       "      <td>0.90550</td>\n",
       "      <td>0.022092</td>\n",
       "    </tr>\n",
       "  </tbody>\n",
       "</table>\n",
       "<p>5064 rows × 4 columns</p>\n",
       "</div>"
      ],
      "text/plain": [
       "           Date     Open    Close  Price Change (in %)\n",
       "0    2003-12-01  0.83098  0.83577             0.576428\n",
       "1    2003-12-02  0.83605  0.82720            -1.058549\n",
       "2    2003-12-03  0.82713  0.82488            -0.272025\n",
       "3    2003-12-04  0.82508  0.82775             0.323605\n",
       "4    2003-12-05  0.82795  0.82055            -0.893774\n",
       "...         ...      ...      ...                  ...\n",
       "5059 2023-04-21  0.91150  0.91150             0.000000\n",
       "5060 2023-04-24  0.90973  0.90973             0.000000\n",
       "5061 2023-04-25  0.90420  0.90420             0.000000\n",
       "5062 2023-04-26  0.91088  0.91088             0.000000\n",
       "5063 2023-04-27  0.90530  0.90550             0.022092\n",
       "\n",
       "[5064 rows x 4 columns]"
      ]
     },
     "execution_count": 63,
     "metadata": {},
     "output_type": "execute_result"
    }
   ],
   "source": [
    "usd_df"
   ]
  },
  {
   "cell_type": "code",
   "execution_count": 64,
   "metadata": {},
   "outputs": [],
   "source": [
    "usd_df[\"Vola\"] = usd_df[\"Price Change (in %)\"].rolling(30).std()"
   ]
  },
  {
   "cell_type": "code",
   "execution_count": 65,
   "metadata": {},
   "outputs": [
    {
     "data": {
      "text/html": [
       "<div>\n",
       "<style scoped>\n",
       "    .dataframe tbody tr th:only-of-type {\n",
       "        vertical-align: middle;\n",
       "    }\n",
       "\n",
       "    .dataframe tbody tr th {\n",
       "        vertical-align: top;\n",
       "    }\n",
       "\n",
       "    .dataframe thead th {\n",
       "        text-align: right;\n",
       "    }\n",
       "</style>\n",
       "<table border=\"1\" class=\"dataframe\">\n",
       "  <thead>\n",
       "    <tr style=\"text-align: right;\">\n",
       "      <th></th>\n",
       "      <th>Date</th>\n",
       "      <th>Open</th>\n",
       "      <th>Close</th>\n",
       "      <th>Price Change (in %)</th>\n",
       "      <th>Vola</th>\n",
       "    </tr>\n",
       "  </thead>\n",
       "  <tbody>\n",
       "    <tr>\n",
       "      <th>4500</th>\n",
       "      <td>2021-03-01</td>\n",
       "      <td>0.827068</td>\n",
       "      <td>0.82716</td>\n",
       "      <td>0.011124</td>\n",
       "      <td>0.010791</td>\n",
       "    </tr>\n",
       "    <tr>\n",
       "      <th>4501</th>\n",
       "      <td>2021-03-02</td>\n",
       "      <td>0.829940</td>\n",
       "      <td>0.82980</td>\n",
       "      <td>-0.016869</td>\n",
       "      <td>0.010599</td>\n",
       "    </tr>\n",
       "    <tr>\n",
       "      <th>4502</th>\n",
       "      <td>2021-03-03</td>\n",
       "      <td>0.827470</td>\n",
       "      <td>0.82744</td>\n",
       "      <td>-0.003626</td>\n",
       "      <td>0.010402</td>\n",
       "    </tr>\n",
       "    <tr>\n",
       "      <th>4503</th>\n",
       "      <td>2021-03-04</td>\n",
       "      <td>0.829990</td>\n",
       "      <td>0.82983</td>\n",
       "      <td>-0.019277</td>\n",
       "      <td>0.010623</td>\n",
       "    </tr>\n",
       "    <tr>\n",
       "      <th>4504</th>\n",
       "      <td>2021-03-05</td>\n",
       "      <td>0.835520</td>\n",
       "      <td>0.83558</td>\n",
       "      <td>0.007181</td>\n",
       "      <td>0.010885</td>\n",
       "    </tr>\n",
       "    <tr>\n",
       "      <th>...</th>\n",
       "      <td>...</td>\n",
       "      <td>...</td>\n",
       "      <td>...</td>\n",
       "      <td>...</td>\n",
       "      <td>...</td>\n",
       "    </tr>\n",
       "    <tr>\n",
       "      <th>5059</th>\n",
       "      <td>2023-04-21</td>\n",
       "      <td>0.911500</td>\n",
       "      <td>0.91150</td>\n",
       "      <td>0.000000</td>\n",
       "      <td>0.000000</td>\n",
       "    </tr>\n",
       "    <tr>\n",
       "      <th>5060</th>\n",
       "      <td>2023-04-24</td>\n",
       "      <td>0.909730</td>\n",
       "      <td>0.90973</td>\n",
       "      <td>0.000000</td>\n",
       "      <td>0.000000</td>\n",
       "    </tr>\n",
       "    <tr>\n",
       "      <th>5061</th>\n",
       "      <td>2023-04-25</td>\n",
       "      <td>0.904200</td>\n",
       "      <td>0.90420</td>\n",
       "      <td>0.000000</td>\n",
       "      <td>0.000000</td>\n",
       "    </tr>\n",
       "    <tr>\n",
       "      <th>5062</th>\n",
       "      <td>2023-04-26</td>\n",
       "      <td>0.910880</td>\n",
       "      <td>0.91088</td>\n",
       "      <td>0.000000</td>\n",
       "      <td>0.000000</td>\n",
       "    </tr>\n",
       "    <tr>\n",
       "      <th>5063</th>\n",
       "      <td>2023-04-27</td>\n",
       "      <td>0.905300</td>\n",
       "      <td>0.90550</td>\n",
       "      <td>0.022092</td>\n",
       "      <td>0.004033</td>\n",
       "    </tr>\n",
       "  </tbody>\n",
       "</table>\n",
       "<p>564 rows × 5 columns</p>\n",
       "</div>"
      ],
      "text/plain": [
       "           Date      Open    Close  Price Change (in %)      Vola\n",
       "4500 2021-03-01  0.827068  0.82716             0.011124  0.010791\n",
       "4501 2021-03-02  0.829940  0.82980            -0.016869  0.010599\n",
       "4502 2021-03-03  0.827470  0.82744            -0.003626  0.010402\n",
       "4503 2021-03-04  0.829990  0.82983            -0.019277  0.010623\n",
       "4504 2021-03-05  0.835520  0.83558             0.007181  0.010885\n",
       "...         ...       ...      ...                  ...       ...\n",
       "5059 2023-04-21  0.911500  0.91150             0.000000  0.000000\n",
       "5060 2023-04-24  0.909730  0.90973             0.000000  0.000000\n",
       "5061 2023-04-25  0.904200  0.90420             0.000000  0.000000\n",
       "5062 2023-04-26  0.910880  0.91088             0.000000  0.000000\n",
       "5063 2023-04-27  0.905300  0.90550             0.022092  0.004033\n",
       "\n",
       "[564 rows x 5 columns]"
      ]
     },
     "execution_count": 65,
     "metadata": {},
     "output_type": "execute_result"
    }
   ],
   "source": [
    "usd_df[4500:]"
   ]
  },
  {
   "cell_type": "code",
   "execution_count": 71,
   "metadata": {},
   "outputs": [
    {
     "data": {
      "text/plain": [
       "Text(0.5, 0, 'Jahr')"
      ]
     },
     "execution_count": 71,
     "metadata": {},
     "output_type": "execute_result"
    },
    {
     "data": {
      "image/png": "[encoded data removed]",
      "text/plain": [
       "<Figure size 1000x500 with 1 Axes>"
      ]
     },
     "metadata": {},
     "output_type": "display_data"
    }
   ],
   "source": [
    "usd_df.plot(x = 'Date', y = 'Vola', kind = 'line', figsize=(10, 5), color=\"green\", title=\"Volatilität des US-Dollars\", label=\"USD/EUR\")\n",
    "plt.ylabel(\"Rollenden 30-Tage-Volatilität\")\n",
    "plt.xlabel(\"Jahr\")"
   ]
  },
  {
   "attachments": {},
   "cell_type": "markdown",
   "metadata": {},
   "source": [
    "##### Gold volatility"
   ]
  },
  {
   "cell_type": "code",
   "execution_count": 60,
   "metadata": {},
   "outputs": [],
   "source": [
    "gold = pd.read_csv(\"gold.csv\")"
   ]
  },
  {
   "cell_type": "code",
   "execution_count": 61,
   "metadata": {},
   "outputs": [],
   "source": [
    "gold_df = pd.DataFrame(gold)"
   ]
  },
  {
   "cell_type": "code",
   "execution_count": 62,
   "metadata": {},
   "outputs": [
    {
     "data": {
      "text/html": [
       "<div>\n",
       "<style scoped>\n",
       "    .dataframe tbody tr th:only-of-type {\n",
       "        vertical-align: middle;\n",
       "    }\n",
       "\n",
       "    .dataframe tbody tr th {\n",
       "        vertical-align: top;\n",
       "    }\n",
       "\n",
       "    .dataframe thead th {\n",
       "        text-align: right;\n",
       "    }\n",
       "</style>\n",
       "<table border=\"1\" class=\"dataframe\">\n",
       "  <thead>\n",
       "    <tr style=\"text-align: right;\">\n",
       "      <th></th>\n",
       "      <th>Date</th>\n",
       "      <th>Close/Last</th>\n",
       "      <th>Volume</th>\n",
       "      <th>Open</th>\n",
       "      <th>High</th>\n",
       "      <th>Low</th>\n",
       "    </tr>\n",
       "  </thead>\n",
       "  <tbody>\n",
       "    <tr>\n",
       "      <th>0</th>\n",
       "      <td>04/26/2023</td>\n",
       "      <td>1996.0</td>\n",
       "      <td>231110.0</td>\n",
       "      <td>2007.7</td>\n",
       "      <td>2020.2</td>\n",
       "      <td>1993.7</td>\n",
       "    </tr>\n",
       "    <tr>\n",
       "      <th>1</th>\n",
       "      <td>04/25/2023</td>\n",
       "      <td>2004.5</td>\n",
       "      <td>214107.0</td>\n",
       "      <td>1999.4</td>\n",
       "      <td>2014.5</td>\n",
       "      <td>1986.2</td>\n",
       "    </tr>\n",
       "    <tr>\n",
       "      <th>2</th>\n",
       "      <td>04/24/2023</td>\n",
       "      <td>1999.8</td>\n",
       "      <td>136854.0</td>\n",
       "      <td>1992.0</td>\n",
       "      <td>2001.5</td>\n",
       "      <td>1984.4</td>\n",
       "    </tr>\n",
       "    <tr>\n",
       "      <th>3</th>\n",
       "      <td>04/21/2023</td>\n",
       "      <td>1990.5</td>\n",
       "      <td>205700.0</td>\n",
       "      <td>2016.1</td>\n",
       "      <td>2016.8</td>\n",
       "      <td>1982.3</td>\n",
       "    </tr>\n",
       "    <tr>\n",
       "      <th>4</th>\n",
       "      <td>04/20/2023</td>\n",
       "      <td>2019.1</td>\n",
       "      <td>158915.0</td>\n",
       "      <td>2007.7</td>\n",
       "      <td>2024.2</td>\n",
       "      <td>2002.2</td>\n",
       "    </tr>\n",
       "    <tr>\n",
       "      <th>...</th>\n",
       "      <td>...</td>\n",
       "      <td>...</td>\n",
       "      <td>...</td>\n",
       "      <td>...</td>\n",
       "      <td>...</td>\n",
       "      <td>...</td>\n",
       "    </tr>\n",
       "    <tr>\n",
       "      <th>2536</th>\n",
       "      <td>05/03/2013</td>\n",
       "      <td>1464.2</td>\n",
       "      <td>159542.0</td>\n",
       "      <td>1466.2</td>\n",
       "      <td>1487.2</td>\n",
       "      <td>1455.4</td>\n",
       "    </tr>\n",
       "    <tr>\n",
       "      <th>2537</th>\n",
       "      <td>05/02/2013</td>\n",
       "      <td>1467.6</td>\n",
       "      <td>138096.0</td>\n",
       "      <td>1457.0</td>\n",
       "      <td>1473.3</td>\n",
       "      <td>1448.1</td>\n",
       "    </tr>\n",
       "    <tr>\n",
       "      <th>2538</th>\n",
       "      <td>05/01/2013</td>\n",
       "      <td>1446.2</td>\n",
       "      <td>154718.0</td>\n",
       "      <td>1475.6</td>\n",
       "      <td>1477.4</td>\n",
       "      <td>1439.7</td>\n",
       "    </tr>\n",
       "    <tr>\n",
       "      <th>2539</th>\n",
       "      <td>04/30/2013</td>\n",
       "      <td>1472.1</td>\n",
       "      <td>132453.0</td>\n",
       "      <td>1476.6</td>\n",
       "      <td>1479.5</td>\n",
       "      <td>1460.5</td>\n",
       "    </tr>\n",
       "    <tr>\n",
       "      <th>2540</th>\n",
       "      <td>04/29/2013</td>\n",
       "      <td>1467.4</td>\n",
       "      <td>108544.0</td>\n",
       "      <td>1468.2</td>\n",
       "      <td>1478.3</td>\n",
       "      <td>1461.6</td>\n",
       "    </tr>\n",
       "  </tbody>\n",
       "</table>\n",
       "<p>2541 rows × 6 columns</p>\n",
       "</div>"
      ],
      "text/plain": [
       "            Date  Close/Last    Volume    Open    High     Low\n",
       "0     04/26/2023      1996.0  231110.0  2007.7  2020.2  1993.7\n",
       "1     04/25/2023      2004.5  214107.0  1999.4  2014.5  1986.2\n",
       "2     04/24/2023      1999.8  136854.0  1992.0  2001.5  1984.4\n",
       "3     04/21/2023      1990.5  205700.0  2016.1  2016.8  1982.3\n",
       "4     04/20/2023      2019.1  158915.0  2007.7  2024.2  2002.2\n",
       "...          ...         ...       ...     ...     ...     ...\n",
       "2536  05/03/2013      1464.2  159542.0  1466.2  1487.2  1455.4\n",
       "2537  05/02/2013      1467.6  138096.0  1457.0  1473.3  1448.1\n",
       "2538  05/01/2013      1446.2  154718.0  1475.6  1477.4  1439.7\n",
       "2539  04/30/2013      1472.1  132453.0  1476.6  1479.5  1460.5\n",
       "2540  04/29/2013      1467.4  108544.0  1468.2  1478.3  1461.6\n",
       "\n",
       "[2541 rows x 6 columns]"
      ]
     },
     "execution_count": 62,
     "metadata": {},
     "output_type": "execute_result"
    }
   ],
   "source": [
    "gold_df"
   ]
  },
  {
   "cell_type": "code",
   "execution_count": 63,
   "metadata": {},
   "outputs": [],
   "source": [
    "gold_df = gold_df.drop(columns=[\"High\", \"Low\", \"Volume\"])"
   ]
  },
  {
   "cell_type": "code",
   "execution_count": 64,
   "metadata": {},
   "outputs": [
    {
     "name": "stdout",
     "output_type": "stream",
     "text": [
      "<class 'pandas.core.frame.DataFrame'>\n",
      "RangeIndex: 2541 entries, 0 to 2540\n",
      "Data columns (total 3 columns):\n",
      " #   Column      Non-Null Count  Dtype  \n",
      "---  ------      --------------  -----  \n",
      " 0   Date        2541 non-null   object \n",
      " 1   Close/Last  2541 non-null   float64\n",
      " 2   Open        2541 non-null   float64\n",
      "dtypes: float64(2), object(1)\n",
      "memory usage: 59.7+ KB\n"
     ]
    }
   ],
   "source": [
    "gold_df.info()"
   ]
  },
  {
   "cell_type": "code",
   "execution_count": 65,
   "metadata": {},
   "outputs": [],
   "source": [
    "gold_df[\"Date\"] = pd.to_datetime(gold_df[\"Date\"])"
   ]
  },
  {
   "cell_type": "code",
   "execution_count": 66,
   "metadata": {},
   "outputs": [
    {
     "name": "stdout",
     "output_type": "stream",
     "text": [
      "<class 'pandas.core.frame.DataFrame'>\n",
      "RangeIndex: 2541 entries, 0 to 2540\n",
      "Data columns (total 3 columns):\n",
      " #   Column      Non-Null Count  Dtype         \n",
      "---  ------      --------------  -----         \n",
      " 0   Date        2541 non-null   datetime64[ns]\n",
      " 1   Close/Last  2541 non-null   float64       \n",
      " 2   Open        2541 non-null   float64       \n",
      "dtypes: datetime64[ns](1), float64(2)\n",
      "memory usage: 59.7 KB\n"
     ]
    }
   ],
   "source": [
    "gold_df.info()"
   ]
  },
  {
   "cell_type": "code",
   "execution_count": 68,
   "metadata": {},
   "outputs": [],
   "source": [
    "vola_gold = (gold_df[\"Close/Last\"] - gold_df[\"Open\"])/gold_df[\"Open\"]*100"
   ]
  },
  {
   "cell_type": "code",
   "execution_count": 71,
   "metadata": {},
   "outputs": [],
   "source": [
    "gold_df['price change in %'] = vola_gold"
   ]
  },
  {
   "cell_type": "code",
   "execution_count": 72,
   "metadata": {},
   "outputs": [
    {
     "data": {
      "text/html": [
       "<div>\n",
       "<style scoped>\n",
       "    .dataframe tbody tr th:only-of-type {\n",
       "        vertical-align: middle;\n",
       "    }\n",
       "\n",
       "    .dataframe tbody tr th {\n",
       "        vertical-align: top;\n",
       "    }\n",
       "\n",
       "    .dataframe thead th {\n",
       "        text-align: right;\n",
       "    }\n",
       "</style>\n",
       "<table border=\"1\" class=\"dataframe\">\n",
       "  <thead>\n",
       "    <tr style=\"text-align: right;\">\n",
       "      <th></th>\n",
       "      <th>Date</th>\n",
       "      <th>Close/Last</th>\n",
       "      <th>Open</th>\n",
       "      <th>pirce change in %</th>\n",
       "      <th>price change in %</th>\n",
       "    </tr>\n",
       "  </thead>\n",
       "  <tbody>\n",
       "    <tr>\n",
       "      <th>0</th>\n",
       "      <td>2023-04-26</td>\n",
       "      <td>1996.0</td>\n",
       "      <td>2007.7</td>\n",
       "      <td>-0.582756</td>\n",
       "      <td>-0.582756</td>\n",
       "    </tr>\n",
       "    <tr>\n",
       "      <th>1</th>\n",
       "      <td>2023-04-25</td>\n",
       "      <td>2004.5</td>\n",
       "      <td>1999.4</td>\n",
       "      <td>0.255077</td>\n",
       "      <td>0.255077</td>\n",
       "    </tr>\n",
       "    <tr>\n",
       "      <th>2</th>\n",
       "      <td>2023-04-24</td>\n",
       "      <td>1999.8</td>\n",
       "      <td>1992.0</td>\n",
       "      <td>0.391566</td>\n",
       "      <td>0.391566</td>\n",
       "    </tr>\n",
       "    <tr>\n",
       "      <th>3</th>\n",
       "      <td>2023-04-21</td>\n",
       "      <td>1990.5</td>\n",
       "      <td>2016.1</td>\n",
       "      <td>-1.269778</td>\n",
       "      <td>-1.269778</td>\n",
       "    </tr>\n",
       "    <tr>\n",
       "      <th>4</th>\n",
       "      <td>2023-04-20</td>\n",
       "      <td>2019.1</td>\n",
       "      <td>2007.7</td>\n",
       "      <td>0.567814</td>\n",
       "      <td>0.567814</td>\n",
       "    </tr>\n",
       "    <tr>\n",
       "      <th>...</th>\n",
       "      <td>...</td>\n",
       "      <td>...</td>\n",
       "      <td>...</td>\n",
       "      <td>...</td>\n",
       "      <td>...</td>\n",
       "    </tr>\n",
       "    <tr>\n",
       "      <th>2536</th>\n",
       "      <td>2013-05-03</td>\n",
       "      <td>1464.2</td>\n",
       "      <td>1466.2</td>\n",
       "      <td>-0.136407</td>\n",
       "      <td>-0.136407</td>\n",
       "    </tr>\n",
       "    <tr>\n",
       "      <th>2537</th>\n",
       "      <td>2013-05-02</td>\n",
       "      <td>1467.6</td>\n",
       "      <td>1457.0</td>\n",
       "      <td>0.727522</td>\n",
       "      <td>0.727522</td>\n",
       "    </tr>\n",
       "    <tr>\n",
       "      <th>2538</th>\n",
       "      <td>2013-05-01</td>\n",
       "      <td>1446.2</td>\n",
       "      <td>1475.6</td>\n",
       "      <td>-1.992410</td>\n",
       "      <td>-1.992410</td>\n",
       "    </tr>\n",
       "    <tr>\n",
       "      <th>2539</th>\n",
       "      <td>2013-04-30</td>\n",
       "      <td>1472.1</td>\n",
       "      <td>1476.6</td>\n",
       "      <td>-0.304754</td>\n",
       "      <td>-0.304754</td>\n",
       "    </tr>\n",
       "    <tr>\n",
       "      <th>2540</th>\n",
       "      <td>2013-04-29</td>\n",
       "      <td>1467.4</td>\n",
       "      <td>1468.2</td>\n",
       "      <td>-0.054488</td>\n",
       "      <td>-0.054488</td>\n",
       "    </tr>\n",
       "  </tbody>\n",
       "</table>\n",
       "<p>2541 rows × 5 columns</p>\n",
       "</div>"
      ],
      "text/plain": [
       "           Date  Close/Last    Open  pirce change in %  price change in %\n",
       "0    2023-04-26      1996.0  2007.7          -0.582756          -0.582756\n",
       "1    2023-04-25      2004.5  1999.4           0.255077           0.255077\n",
       "2    2023-04-24      1999.8  1992.0           0.391566           0.391566\n",
       "3    2023-04-21      1990.5  2016.1          -1.269778          -1.269778\n",
       "4    2023-04-20      2019.1  2007.7           0.567814           0.567814\n",
       "...         ...         ...     ...                ...                ...\n",
       "2536 2013-05-03      1464.2  1466.2          -0.136407          -0.136407\n",
       "2537 2013-05-02      1467.6  1457.0           0.727522           0.727522\n",
       "2538 2013-05-01      1446.2  1475.6          -1.992410          -1.992410\n",
       "2539 2013-04-30      1472.1  1476.6          -0.304754          -0.304754\n",
       "2540 2013-04-29      1467.4  1468.2          -0.054488          -0.054488\n",
       "\n",
       "[2541 rows x 5 columns]"
      ]
     },
     "execution_count": 72,
     "metadata": {},
     "output_type": "execute_result"
    }
   ],
   "source": [
    "gold_df"
   ]
  },
  {
   "cell_type": "code",
   "execution_count": 73,
   "metadata": {},
   "outputs": [],
   "source": [
    "gold_df[\"Vola\"] = gold_df[\"price change in %\"].rolling(30).std()"
   ]
  },
  {
   "cell_type": "code",
   "execution_count": 77,
   "metadata": {},
   "outputs": [
    {
     "data": {
      "text/plain": [
       "<Axes: title={'center': 'Volatilität'}, xlabel='Date'>"
      ]
     },
     "execution_count": 77,
     "metadata": {},
     "output_type": "execute_result"
    },
    {
     "data": {
      "image/png": "[encoded data removed]",
      "text/plain": [
       "<Figure size 1000x500 with 1 Axes>"
      ]
     },
     "metadata": {},
     "output_type": "display_data"
    }
   ],
   "source": [
    "gold_df.plot(x = 'Date', y = 'Vola', kind = 'line', figsize=(10, 5), color=\"gold\", title=\"Volatilität\", label=\"Gold / USD\")"
   ]
  },
  {
   "attachments": {},
   "cell_type": "markdown",
   "metadata": {},
   "source": [
    "# All volatilities in one plot"
   ]
  },
  {
   "cell_type": "code",
   "execution_count": 100,
   "metadata": {},
   "outputs": [
    {
     "data": {
      "text/plain": [
       "Text(0.5, 0, 'Jahre')"
      ]
     },
     "execution_count": 100,
     "metadata": {},
     "output_type": "execute_result"
    },
    {
     "data": {
      "image/png": "[encoded data removed]",
      "text/plain": [
       "<Figure size 1000x500 with 1 Axes>"
      ]
     },
     "metadata": {},
     "output_type": "display_data"
    }
   ],
   "source": [
    "ax = usd_df.plot(x = 'Date', y = 'Vola', kind = 'line', figsize=(10, 5), color=\"green\", title=\"Volatilität\", label=\"USD/EUR\")\n",
    "df.plot(x = 'Date', y = 'Vola', kind = 'line', figsize=(10, 5), color=\"orange\", label='Bitcoin/USD',ax = ax)\n",
    "gold_df.plot(x = 'Date', y = 'Vola', kind = 'line', figsize=(10, 5), color=\"gold\", title=\"Volatilität\", label=\"Gold / USD\", ax=ax)\n",
    "plt.ylabel(\"Rollende 30-Tage-Volatilität pro Tag\")\n",
    "plt.xlabel(\"Jahre\")"
   ]
  },
  {
   "attachments": {},
   "cell_type": "markdown",
   "metadata": {},
   "source": [
    "# Regressions\n",
    "#### Bitcoin volatility as dependent variable"
   ]
  },
  {
   "cell_type": "code",
   "execution_count": null,
   "metadata": {},
   "outputs": [],
   "source": []
  }
 ],
 "metadata": {
  "kernelspec": {
   "display_name": "Python 3",
   "language": "python",
   "name": "python3"
  },
  "language_info": {
   "codemirror_mode": {
    "name": "ipython",
    "version": 3
   },
   "file_extension": ".py",
   "mimetype": "text/x-python",
   "name": "python",
   "nbconvert_exporter": "python",
   "pygments_lexer": "ipython3",
   "version": "3.11.1"
  }
 },
 "nbformat": 4,
 "nbformat_minor": 4
}
